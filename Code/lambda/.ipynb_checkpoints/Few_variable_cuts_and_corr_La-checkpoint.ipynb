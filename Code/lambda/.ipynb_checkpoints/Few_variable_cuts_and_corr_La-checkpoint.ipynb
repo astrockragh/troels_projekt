{
 "cells": [
  {
   "cell_type": "markdown",
   "metadata": {},
   "source": [
    "## Importing libaries and getting DataFrame"
   ]
  },
  {
   "cell_type": "code",
   "execution_count": 180,
   "metadata": {
    "ExecuteTime": {
     "end_time": "2020-09-04T10:00:18.788446Z",
     "start_time": "2020-09-04T10:00:18.785416Z"
    }
   },
   "outputs": [],
   "source": [
    "import uproot\n",
    "import pandas as pd\n",
    "import numpy as np\n",
    "import matplotlib.pyplot as plt"
   ]
  },
  {
   "cell_type": "code",
   "execution_count": 181,
   "metadata": {
    "ExecuteTime": {
     "end_time": "2020-09-04T10:00:19.021241Z",
     "start_time": "2020-09-04T10:00:19.015873Z"
    }
   },
   "outputs": [],
   "source": [
    "path = \"../../data/mc15_13TeV.361203.Pythia8_A2_MSTW2008LO_ND_minbias.30062015_v0_per_0.root\""
   ]
  },
  {
   "cell_type": "code",
   "execution_count": null,
   "metadata": {
    "ExecuteTime": {
     "start_time": "2020-09-04T11:43:31.760Z"
    }
   },
   "outputs": [],
   "source": [
    "allstring=''\n",
    "keys=[]\n",
    "for key in T.keys():\n",
    "    keys.append(str(key)[2:-1])\n",
    "    allstring+=' '+str(key)[2:-1]\n",
    "allstring=allstring[1:]\n",
    "\n",
    "no_true=[]\n",
    "for key in keys:\n",
    "    if 'true' not in key:\n",
    "        no_true.append(' '+key)"
   ]
  },
  {
   "cell_type": "code",
   "execution_count": 182,
   "metadata": {
    "ExecuteTime": {
     "end_time": "2020-09-04T10:00:20.509889Z",
     "start_time": "2020-09-04T10:00:19.220425Z"
    }
   },
   "outputs": [],
   "source": [
    "file = uproot.open(path)\n",
    "T = file['tree']\n",
    "df = T.pandas.df(\"v0_rxy v0_chi2 cosTheta v0_la_mass trueLa\".split(\" \"))"
   ]
  },
  {
   "cell_type": "code",
   "execution_count": 202,
   "metadata": {
    "ExecuteTime": {
     "end_time": "2020-09-04T11:40:02.718499Z",
     "start_time": "2020-09-04T11:39:09.926669Z"
    }
   },
   "outputs": [
    {
     "data": {
      "text/html": [
       "<div>\n",
       "<style scoped>\n",
       "    .dataframe tbody tr th:only-of-type {\n",
       "        vertical-align: middle;\n",
       "    }\n",
       "\n",
       "    .dataframe tbody tr th {\n",
       "        vertical-align: top;\n",
       "    }\n",
       "\n",
       "    .dataframe thead th {\n",
       "        text-align: right;\n",
       "    }\n",
       "</style>\n",
       "<table border=\"1\" class=\"dataframe\">\n",
       "  <thead>\n",
       "    <tr style=\"text-align: right;\">\n",
       "      <th></th>\n",
       "      <th>eventCounter</th>\n",
       "      <th>npv</th>\n",
       "      <th>ntrk_pv0</th>\n",
       "      <th>pv0_x</th>\n",
       "      <th>pv0_y</th>\n",
       "      <th>pv0_z</th>\n",
       "      <th>a0xy</th>\n",
       "      <th>a0</th>\n",
       "      <th>a0z</th>\n",
       "      <th>cosTheta</th>\n",
       "      <th>...</th>\n",
       "      <th>trueKs_z</th>\n",
       "      <th>trueLa_x</th>\n",
       "      <th>trueLa_y</th>\n",
       "      <th>trueLa_z</th>\n",
       "      <th>trueLb_x</th>\n",
       "      <th>trueLb_y</th>\n",
       "      <th>trueLb_z</th>\n",
       "      <th>trueGa_x</th>\n",
       "      <th>trueGa_y</th>\n",
       "      <th>trueGa_z</th>\n",
       "    </tr>\n",
       "    <tr>\n",
       "      <th>entry</th>\n",
       "      <th></th>\n",
       "      <th></th>\n",
       "      <th></th>\n",
       "      <th></th>\n",
       "      <th></th>\n",
       "      <th></th>\n",
       "      <th></th>\n",
       "      <th></th>\n",
       "      <th></th>\n",
       "      <th></th>\n",
       "      <th></th>\n",
       "      <th></th>\n",
       "      <th></th>\n",
       "      <th></th>\n",
       "      <th></th>\n",
       "      <th></th>\n",
       "      <th></th>\n",
       "      <th></th>\n",
       "      <th></th>\n",
       "      <th></th>\n",
       "      <th></th>\n",
       "    </tr>\n",
       "  </thead>\n",
       "  <tbody>\n",
       "    <tr>\n",
       "      <th>0</th>\n",
       "      <td>2</td>\n",
       "      <td>1</td>\n",
       "      <td>62</td>\n",
       "      <td>0.028077</td>\n",
       "      <td>0.004393</td>\n",
       "      <td>32.790684</td>\n",
       "      <td>0.060672</td>\n",
       "      <td>0.133528</td>\n",
       "      <td>0.133528</td>\n",
       "      <td>0.999984</td>\n",
       "      <td>...</td>\n",
       "      <td>25.575891</td>\n",
       "      <td>-999999.0</td>\n",
       "      <td>-999999.0</td>\n",
       "      <td>-999999.0</td>\n",
       "      <td>-999999.0</td>\n",
       "      <td>-999999.0</td>\n",
       "      <td>-999999.0</td>\n",
       "      <td>-999999.0</td>\n",
       "      <td>-999999.0</td>\n",
       "      <td>-999999.0</td>\n",
       "    </tr>\n",
       "    <tr>\n",
       "      <th>1</th>\n",
       "      <td>2</td>\n",
       "      <td>1</td>\n",
       "      <td>62</td>\n",
       "      <td>0.028077</td>\n",
       "      <td>0.004393</td>\n",
       "      <td>32.790684</td>\n",
       "      <td>0.757474</td>\n",
       "      <td>2.288277</td>\n",
       "      <td>2.288277</td>\n",
       "      <td>0.998978</td>\n",
       "      <td>...</td>\n",
       "      <td>-999999.000000</td>\n",
       "      <td>-999999.0</td>\n",
       "      <td>-999999.0</td>\n",
       "      <td>-999999.0</td>\n",
       "      <td>-999999.0</td>\n",
       "      <td>-999999.0</td>\n",
       "      <td>-999999.0</td>\n",
       "      <td>-999999.0</td>\n",
       "      <td>-999999.0</td>\n",
       "      <td>-999999.0</td>\n",
       "    </tr>\n",
       "    <tr>\n",
       "      <th>2</th>\n",
       "      <td>6</td>\n",
       "      <td>1</td>\n",
       "      <td>10</td>\n",
       "      <td>0.060272</td>\n",
       "      <td>-0.035856</td>\n",
       "      <td>-55.414871</td>\n",
       "      <td>0.352496</td>\n",
       "      <td>0.450838</td>\n",
       "      <td>0.450838</td>\n",
       "      <td>-0.976455</td>\n",
       "      <td>...</td>\n",
       "      <td>-999999.000000</td>\n",
       "      <td>-999999.0</td>\n",
       "      <td>-999999.0</td>\n",
       "      <td>-999999.0</td>\n",
       "      <td>-999999.0</td>\n",
       "      <td>-999999.0</td>\n",
       "      <td>-999999.0</td>\n",
       "      <td>-999999.0</td>\n",
       "      <td>-999999.0</td>\n",
       "      <td>-999999.0</td>\n",
       "    </tr>\n",
       "    <tr>\n",
       "      <th>3</th>\n",
       "      <td>7</td>\n",
       "      <td>1</td>\n",
       "      <td>26</td>\n",
       "      <td>-0.031177</td>\n",
       "      <td>0.036038</td>\n",
       "      <td>-51.024857</td>\n",
       "      <td>4.042985</td>\n",
       "      <td>5.507392</td>\n",
       "      <td>5.507392</td>\n",
       "      <td>0.981570</td>\n",
       "      <td>...</td>\n",
       "      <td>-999999.000000</td>\n",
       "      <td>-999999.0</td>\n",
       "      <td>-999999.0</td>\n",
       "      <td>-999999.0</td>\n",
       "      <td>-999999.0</td>\n",
       "      <td>-999999.0</td>\n",
       "      <td>-999999.0</td>\n",
       "      <td>-999999.0</td>\n",
       "      <td>-999999.0</td>\n",
       "      <td>-999999.0</td>\n",
       "    </tr>\n",
       "    <tr>\n",
       "      <th>4</th>\n",
       "      <td>7</td>\n",
       "      <td>1</td>\n",
       "      <td>26</td>\n",
       "      <td>-0.031177</td>\n",
       "      <td>0.036038</td>\n",
       "      <td>-51.024857</td>\n",
       "      <td>4.279605</td>\n",
       "      <td>5.185442</td>\n",
       "      <td>5.185442</td>\n",
       "      <td>-0.814891</td>\n",
       "      <td>...</td>\n",
       "      <td>-999999.000000</td>\n",
       "      <td>-999999.0</td>\n",
       "      <td>-999999.0</td>\n",
       "      <td>-999999.0</td>\n",
       "      <td>-999999.0</td>\n",
       "      <td>-999999.0</td>\n",
       "      <td>-999999.0</td>\n",
       "      <td>-999999.0</td>\n",
       "      <td>-999999.0</td>\n",
       "      <td>-999999.0</td>\n",
       "    </tr>\n",
       "  </tbody>\n",
       "</table>\n",
       "<p>5 rows × 155 columns</p>\n",
       "</div>"
      ],
      "text/plain": [
       "       eventCounter  npv  ntrk_pv0     pv0_x     pv0_y      pv0_z      a0xy  \\\n",
       "entry                                                                         \n",
       "0                 2    1        62  0.028077  0.004393  32.790684  0.060672   \n",
       "1                 2    1        62  0.028077  0.004393  32.790684  0.757474   \n",
       "2                 6    1        10  0.060272 -0.035856 -55.414871  0.352496   \n",
       "3                 7    1        26 -0.031177  0.036038 -51.024857  4.042985   \n",
       "4                 7    1        26 -0.031177  0.036038 -51.024857  4.279605   \n",
       "\n",
       "             a0       a0z  cosTheta  ...       trueKs_z  trueLa_x  trueLa_y  \\\n",
       "entry                                ...                                      \n",
       "0      0.133528  0.133528  0.999984  ...      25.575891 -999999.0 -999999.0   \n",
       "1      2.288277  2.288277  0.998978  ... -999999.000000 -999999.0 -999999.0   \n",
       "2      0.450838  0.450838 -0.976455  ... -999999.000000 -999999.0 -999999.0   \n",
       "3      5.507392  5.507392  0.981570  ... -999999.000000 -999999.0 -999999.0   \n",
       "4      5.185442  5.185442 -0.814891  ... -999999.000000 -999999.0 -999999.0   \n",
       "\n",
       "       trueLa_z  trueLb_x  trueLb_y  trueLb_z  trueGa_x  trueGa_y  trueGa_z  \n",
       "entry                                                                        \n",
       "0     -999999.0 -999999.0 -999999.0 -999999.0 -999999.0 -999999.0 -999999.0  \n",
       "1     -999999.0 -999999.0 -999999.0 -999999.0 -999999.0 -999999.0 -999999.0  \n",
       "2     -999999.0 -999999.0 -999999.0 -999999.0 -999999.0 -999999.0 -999999.0  \n",
       "3     -999999.0 -999999.0 -999999.0 -999999.0 -999999.0 -999999.0 -999999.0  \n",
       "4     -999999.0 -999999.0 -999999.0 -999999.0 -999999.0 -999999.0 -999999.0  \n",
       "\n",
       "[5 rows x 155 columns]"
      ]
     },
     "execution_count": 202,
     "metadata": {},
     "output_type": "execute_result"
    }
   ],
   "source": [
    "df_all = T.pandas.df(allstring.split(\" \"))\n",
    "df_all.head()"
   ]
  },
  {
   "cell_type": "code",
   "execution_count": null,
   "metadata": {
    "ExecuteTime": {
     "start_time": "2020-09-04T11:40:54.551Z"
    }
   },
   "outputs": [],
   "source": [
    "fig, ax = plt.subplots()\n",
    "corr=df_all.corr()\n",
    "im = ax.imshow(corr)\n",
    "\n",
    "# We want to show all ticks...\n",
    "ax.set_xticks(np.arange(len(df_all.columns)-1))\n",
    "ax.set_yticks(np.arange(len(df_all.columns)-1))\n",
    "# ... and label them with the respective list entries\n",
    "ax.set_xticklabels(df_all.columns[:-1])\n",
    "ax.set_yticklabels(df_all.columns[:-1])\n",
    "\n",
    "# Rotate the tick labels and set their alignment.\n",
    "plt.setp(ax.get_xticklabels(), rotation=45, ha=\"right\",\n",
    "         rotation_mode=\"anchor\")\n",
    "\n",
    "# Loop over data dimensions and create text annotations.\n",
    "for i in range(len(df_all.columns)-1):\n",
    "    for j in range(len(df_all.columns)-1):\n",
    "        text = ax.text(j, i, np.round(corr[df_all.columns[i]][df_all.columns[j]], 2),\n",
    "                       ha=\"center\", va=\"center\", color=\"w\")\n",
    "\n",
    "ax.set_title(\"Correlation matrix (full dataset)\")\n",
    "fig.tight_layout()\n",
    "plt.show()"
   ]
  },
  {
   "cell_type": "code",
   "execution_count": 183,
   "metadata": {
    "ExecuteTime": {
     "end_time": "2020-09-04T10:00:20.525855Z",
     "start_time": "2020-09-04T10:00:20.511893Z"
    }
   },
   "outputs": [
    {
     "data": {
      "text/html": [
       "<div>\n",
       "<style scoped>\n",
       "    .dataframe tbody tr th:only-of-type {\n",
       "        vertical-align: middle;\n",
       "    }\n",
       "\n",
       "    .dataframe tbody tr th {\n",
       "        vertical-align: top;\n",
       "    }\n",
       "\n",
       "    .dataframe thead th {\n",
       "        text-align: right;\n",
       "    }\n",
       "</style>\n",
       "<table border=\"1\" class=\"dataframe\">\n",
       "  <thead>\n",
       "    <tr style=\"text-align: right;\">\n",
       "      <th></th>\n",
       "      <th>v0_rxy</th>\n",
       "      <th>v0_chi2</th>\n",
       "      <th>cosTheta</th>\n",
       "      <th>v0_la_mass</th>\n",
       "      <th>trueLa</th>\n",
       "    </tr>\n",
       "    <tr>\n",
       "      <th>entry</th>\n",
       "      <th></th>\n",
       "      <th></th>\n",
       "      <th></th>\n",
       "      <th></th>\n",
       "      <th></th>\n",
       "    </tr>\n",
       "  </thead>\n",
       "  <tbody>\n",
       "    <tr>\n",
       "      <th>0</th>\n",
       "      <td>22.167784</td>\n",
       "      <td>2.382054</td>\n",
       "      <td>0.999984</td>\n",
       "      <td>1411.470215</td>\n",
       "      <td>0</td>\n",
       "    </tr>\n",
       "    <tr>\n",
       "      <th>1</th>\n",
       "      <td>47.610825</td>\n",
       "      <td>3.497677</td>\n",
       "      <td>0.998978</td>\n",
       "      <td>1141.442261</td>\n",
       "      <td>0</td>\n",
       "    </tr>\n",
       "    <tr>\n",
       "      <th>2</th>\n",
       "      <td>0.817319</td>\n",
       "      <td>0.498025</td>\n",
       "      <td>-0.976455</td>\n",
       "      <td>1351.726929</td>\n",
       "      <td>0</td>\n",
       "    </tr>\n",
       "    <tr>\n",
       "      <th>3</th>\n",
       "      <td>8.774105</td>\n",
       "      <td>0.005986</td>\n",
       "      <td>0.981570</td>\n",
       "      <td>1561.072388</td>\n",
       "      <td>0</td>\n",
       "    </tr>\n",
       "    <tr>\n",
       "      <th>4</th>\n",
       "      <td>6.396118</td>\n",
       "      <td>0.059769</td>\n",
       "      <td>-0.814891</td>\n",
       "      <td>1152.548218</td>\n",
       "      <td>0</td>\n",
       "    </tr>\n",
       "  </tbody>\n",
       "</table>\n",
       "</div>"
      ],
      "text/plain": [
       "          v0_rxy   v0_chi2  cosTheta   v0_la_mass  trueLa\n",
       "entry                                                    \n",
       "0      22.167784  2.382054  0.999984  1411.470215       0\n",
       "1      47.610825  3.497677  0.998978  1141.442261       0\n",
       "2       0.817319  0.498025 -0.976455  1351.726929       0\n",
       "3       8.774105  0.005986  0.981570  1561.072388       0\n",
       "4       6.396118  0.059769 -0.814891  1152.548218       0"
      ]
     },
     "execution_count": 183,
     "metadata": {},
     "output_type": "execute_result"
    }
   ],
   "source": [
    "df.head()"
   ]
  },
  {
   "cell_type": "code",
   "execution_count": 184,
   "metadata": {
    "ExecuteTime": {
     "end_time": "2020-09-04T10:00:21.587293Z",
     "start_time": "2020-09-04T10:00:20.527849Z"
    }
   },
   "outputs": [
    {
     "data": {
      "image/png": "[encoded data removed]",
      "text/plain": [
       "<Figure size 432x288 with 1 Axes>"
      ]
     },
     "metadata": {
      "needs_background": "light"
     },
     "output_type": "display_data"
    }
   ],
   "source": [
    "fig, ax = plt.subplots()\n",
    "corr=df.corr()\n",
    "im = ax.imshow(corr)\n",
    "\n",
    "# We want to show all ticks...\n",
    "ax.set_xticks(np.arange(len(df.columns)-1))\n",
    "ax.set_yticks(np.arange(len(df.columns)-1))\n",
    "# ... and label them with the respective list entries\n",
    "ax.set_xticklabels(df.columns[:-1])\n",
    "ax.set_yticklabels(df.columns[:-1])\n",
    "\n",
    "# Rotate the tick labels and set their alignment.\n",
    "plt.setp(ax.get_xticklabels(), rotation=45, ha=\"right\",\n",
    "         rotation_mode=\"anchor\")\n",
    "\n",
    "# Loop over data dimensions and create text annotations.\n",
    "for i in range(len(df.columns)-1):\n",
    "    for j in range(len(df.columns)-1):\n",
    "        text = ax.text(j, i, np.round(corr[df.columns[i]][df.columns[j]], 2),\n",
    "                       ha=\"center\", va=\"center\", color=\"w\")\n",
    "\n",
    "ax.set_title(\"Correlation matrix (full dataset)\")\n",
    "fig.tight_layout()\n",
    "plt.show()"
   ]
  },
  {
   "cell_type": "code",
   "execution_count": 188,
   "metadata": {
    "ExecuteTime": {
     "end_time": "2020-09-04T10:02:46.982252Z",
     "start_time": "2020-09-04T10:02:45.441095Z"
    }
   },
   "outputs": [
    {
     "data": {
      "image/png": "[encoded data removed]",
      "text/plain": [
       "<Figure size 432x864 with 2 Axes>"
      ]
     },
     "metadata": {
      "needs_background": "light"
     },
     "output_type": "display_data"
    }
   ],
   "source": [
    "dft=df.loc[df['trueLa']==1]\n",
    "fig, ax = plt.subplots(2, figsize=(6, 12))\n",
    "corr=dft.corr()\n",
    "im = ax[0].imshow(corr)\n",
    "\n",
    "# We want to show all ticks...\n",
    "ax[0].set_xticks(np.arange(len(df.columns)-1))\n",
    "ax[0].set_yticks(np.arange(len(df.columns)-1))\n",
    "# ... and label them with the respective list entries\n",
    "ax[0].set_xticklabels(df.columns[:-1])\n",
    "ax[0].set_yticklabels(df.columns[:-1])\n",
    "\n",
    "# Rotate the tick labels and set their alignment.\n",
    "plt.setp(ax[0].get_xticklabels(), rotation=45, ha=\"right\",\n",
    "         rotation_mode=\"anchor\")\n",
    "\n",
    "# Loop over data dimensions and create text annotations.\n",
    "for i in range(len(df.columns)-1):\n",
    "    for j in range(len(df.columns)-1):\n",
    "        text = ax[0].text(j, i, np.round(corr[df.columns[i]][df.columns[j]], 2),\n",
    "                       ha=\"center\", va=\"center\", color=\"w\")\n",
    "ax[0].set_title(\"Correlation matrix (True Only)\")\n",
    "\n",
    "dff=df.loc[df['trueLa']==0]\n",
    "corr=dff.corr()\n",
    "im = ax[1].imshow(corr)\n",
    "\n",
    "# We want to show all ticks...\n",
    "ax[1].set_xticks(np.arange(len(df.columns)-1))\n",
    "ax[1].set_yticks(np.arange(len(df.columns)-1))\n",
    "# ... and label them with the respective list entries\n",
    "ax[1].set_xticklabels(df.columns[:-1])\n",
    "ax[1].set_yticklabels(df.columns[:-1])\n",
    "\n",
    "# Rotate the tick labels and set their alignment.\n",
    "plt.setp(ax[1].get_xticklabels(), rotation=45, ha=\"right\",\n",
    "         rotation_mode=\"anchor\")\n",
    "\n",
    "# Loop over data dimensions and create text annotations.\n",
    "for i in range(len(df.columns)-1):\n",
    "    for j in range(len(df.columns)-1):\n",
    "        text = ax[1].text(j, i, np.round(corr[df.columns[i]][df.columns[j]], 2),\n",
    "                       ha=\"center\", va=\"center\", color=\"w\")\n",
    "\n",
    "ax[1].set_title(\"Correlation matrix (False Only)\")\n",
    "fig.tight_layout()\n",
    "plt.show()"
   ]
  },
  {
   "cell_type": "markdown",
   "metadata": {},
   "source": [
    "## Making plots to look at the data"
   ]
  },
  {
   "cell_type": "code",
   "execution_count": 123,
   "metadata": {
    "ExecuteTime": {
     "end_time": "2020-09-04T09:04:33.611046Z",
     "start_time": "2020-09-04T09:04:31.763957Z"
    }
   },
   "outputs": [
    {
     "data": {
      "image/png": "[encoded data removed]",
      "text/plain": [
       "<Figure size 1224x216 with 5 Axes>"
      ]
     },
     "metadata": {
      "needs_background": "light"
     },
     "output_type": "display_data"
    }
   ],
   "source": [
    "fig, ax = plt.subplots(ncols = 5, figsize = (17, 3))\n",
    "bins = 100\n",
    "\n",
    "# fig.suptitle(\"Hist of all data\")\n",
    "\n",
    "for i, col in enumerate(df.columns):\n",
    "    ax[i].set_title(col)\n",
    "    ax[i].hist(df[col], bins = bins)\n",
    "\n",
    "fig.tight_layout()"
   ]
  },
  {
   "cell_type": "code",
   "execution_count": 124,
   "metadata": {
    "ExecuteTime": {
     "end_time": "2020-09-04T09:04:35.165734Z",
     "start_time": "2020-09-04T09:04:33.613036Z"
    },
    "scrolled": true
   },
   "outputs": [
    {
     "data": {
      "image/png": "[encoded data removed]",
      "text/plain": [
       "<Figure size 1224x216 with 5 Axes>"
      ]
     },
     "execution_count": 124,
     "metadata": {},
     "output_type": "execute_result"
    }
   ],
   "source": [
    "# Restrict v0_rxy to less than 150\n",
    "cut_rxy = 150\n",
    "df = df.loc[df[\"v0_rxy\"] < cut_rxy]\n",
    "ax[0].clear()\n",
    "ax[0].set_title(\"v0_rxy\")\n",
    "ax[0].hist(df[\"v0_rxy\"], bins = bins)\n",
    "\n",
    "\n",
    "# Set bins of TrueKs to two\n",
    "ax[4].clear()\n",
    "ax[4].set_title(\"trueLa\")\n",
    "ax[4].hist(df[\"trueLa\"], bins = 2)\n",
    "\n",
    "#Draw plot\n",
    "fig"
   ]
  },
  {
   "cell_type": "code",
   "execution_count": 125,
   "metadata": {
    "ExecuteTime": {
     "end_time": "2020-09-04T09:04:42.962628Z",
     "start_time": "2020-09-04T09:04:35.167689Z"
    }
   },
   "outputs": [
    {
     "data": {
      "image/png": "[encoded data removed]",
      "text/plain": [
       "<Figure size 1224x504 with 8 Axes>"
      ]
     },
     "metadata": {
      "needs_background": "light"
     },
     "output_type": "display_data"
    }
   ],
   "source": [
    "fig, ax = plt.subplots(ncols = 4, nrows = 2, figsize = (17, 7))\n",
    "\n",
    "plot_values = \"v0_rxy v0_chi2 cosTheta v0_la_mass\".split(\" \") # Values to plot \n",
    "trueLa = df[\"trueLa\"].astype(bool) # Identify true/false for Ks \n",
    "\n",
    "for i, col in enumerate(plot_values):\n",
    "    ax[0][i].set_title(col)\n",
    "    ax[0][i].hist(df[col].loc[trueLa], bins = bins, color = \"green\")\n",
    "    ax[1][i].hist(df[col].loc[trueLa.apply(lambda x: not x)], bins = bins, color = \"red\")\n",
    "    \n",
    "ax[0][0].set_ylabel(\"TrueLa\")\n",
    "ax[1][0].set_ylabel(\"FalseLa\")\n",
    "\n",
    "fig.tight_layout()"
   ]
  },
  {
   "cell_type": "code",
   "execution_count": 126,
   "metadata": {
    "ExecuteTime": {
     "end_time": "2020-09-04T09:04:50.275436Z",
     "start_time": "2020-09-04T09:04:42.964623Z"
    }
   },
   "outputs": [
    {
     "data": {
      "image/png": "[encoded data removed]",
      "text/plain": [
       "<Figure size 1224x504 with 4 Axes>"
      ]
     },
     "metadata": {
      "needs_background": "light"
     },
     "output_type": "display_data"
    }
   ],
   "source": [
    "fig, ax = plt.subplots(ncols = 4, nrows = 1, figsize = (17, 7))\n",
    "\n",
    "plot_values = \"v0_rxy v0_chi2 cosTheta v0_la_mass\".split(\" \") # Values to plot \n",
    "trueLa = df[\"trueLa\"].astype(bool) # Identify true/false for Ks \n",
    "\n",
    "for i, col in enumerate(plot_values):\n",
    "    ax[i].set_title(col)\n",
    "    ax[i].hist(df[col].loc[trueLa], bins = bins, color = \"green\", density=1)\n",
    "    ax[i].hist(df[col].loc[trueLa.apply(lambda x: not x)], bins = bins, color = \"red\", alpha=0.5, density=1)\n",
    "\n",
    "fig.tight_layout()"
   ]
  },
  {
   "cell_type": "markdown",
   "metadata": {},
   "source": [
    "## Making cuts\n",
    "First check the amount of trueLa, so we can see how much signal and background we're cutting"
   ]
  },
  {
   "cell_type": "code",
   "execution_count": 127,
   "metadata": {
    "ExecuteTime": {
     "end_time": "2020-09-04T09:04:50.311325Z",
     "start_time": "2020-09-04T09:04:50.276361Z"
    },
    "scrolled": false
   },
   "outputs": [
    {
     "name": "stdout",
     "output_type": "stream",
     "text": [
      "The total amount of signal events is:   78185 \n",
      "and the amount of background events is: 8829957\n",
      "Signal is 0.88 %\n"
     ]
    }
   ],
   "source": [
    "total_signal, total_background = df['trueLa'].sum(), (df['trueLa'] == 0).sum()\n",
    "print(f\"The total amount of signal events is:   {total_signal} \\nand the amount of background events is: {total_background}\")\n",
    "\n",
    "print(\"Signal is {:.2f} %\".format(total_signal/(total_background + total_signal) * 100))"
   ]
  },
  {
   "cell_type": "markdown",
   "metadata": {},
   "source": [
    "We now make cuts for each variable"
   ]
  },
  {
   "cell_type": "markdown",
   "metadata": {},
   "source": [
    "### v0_rxy\n",
    "It is clear that we need to restrict to low values. Lets take a look at v0_rxy for < 150"
   ]
  },
  {
   "cell_type": "code",
   "execution_count": 128,
   "metadata": {
    "ExecuteTime": {
     "end_time": "2020-09-04T09:04:51.382245Z",
     "start_time": "2020-09-04T09:04:50.313316Z"
    }
   },
   "outputs": [
    {
     "data": {
      "image/png": "[encoded data removed]",
      "text/plain": [
       "<Figure size 864x648 with 1 Axes>"
      ]
     },
     "metadata": {
      "needs_background": "light"
     },
     "output_type": "display_data"
    }
   ],
   "source": [
    "histdattrue=df.loc[np.logical_and(df['v0_rxy'] < 130, df['trueLa'] == 1)]\n",
    "histdatfalse=df.loc[np.logical_and(df['v0_rxy'] < 130, df['trueLa'] == 0)]\n",
    "fig, ax=plt.subplots(figsize=(12,9))\n",
    "ax.hist(histdattrue['v0_rxy'], bins=100, color='g', density=1, alpha=0.5)\n",
    "ax.hist(histdatfalse['v0_rxy'], bins=100, color='r', density=1, alpha=0.5)\n",
    "fig.tight_layout()"
   ]
  },
  {
   "cell_type": "markdown",
   "metadata": {},
   "source": [
    "We choose to cut between 7 and 60"
   ]
  },
  {
   "cell_type": "code",
   "execution_count": 129,
   "metadata": {
    "ExecuteTime": {
     "end_time": "2020-09-04T09:04:51.408173Z",
     "start_time": "2020-09-04T09:04:51.383227Z"
    }
   },
   "outputs": [],
   "source": [
    "dforig=df"
   ]
  },
  {
   "cell_type": "code",
   "execution_count": 147,
   "metadata": {
    "ExecuteTime": {
     "end_time": "2020-09-04T09:09:21.057303Z",
     "start_time": "2020-09-04T09:09:21.044401Z"
    }
   },
   "outputs": [],
   "source": [
    "cutup, cutlow=120,7\n",
    "df = df.loc[np.logical_and(df['v0_rxy'] <cutup, df['v0_rxy'] > cutlow)]"
   ]
  },
  {
   "cell_type": "code",
   "execution_count": 131,
   "metadata": {
    "ExecuteTime": {
     "end_time": "2020-09-04T09:04:51.637403Z",
     "start_time": "2020-09-04T09:04:51.616412Z"
    }
   },
   "outputs": [
    {
     "name": "stdout",
     "output_type": "stream",
     "text": [
      "The total amount of signal events is:   74098 \n",
      "and the amount of background events is: 3714284\n",
      "Signal is 1.96 %\n",
      "Signal removed: 4087 \n",
      "Background removed: 5115673\n"
     ]
    }
   ],
   "source": [
    "current_signal, current_background = df['trueLa'].sum(), (df['trueLa'] == 0).sum()\n",
    "print(f\"The total amount of signal events is:   {current_signal} \\nand the amount of background events is: {current_background}\")\n",
    "\n",
    "print(\"Signal is {:.2f} %\".format(current_signal/(current_background + current_signal) * 100))\n",
    "\n",
    "print(f\"Signal removed: {total_signal - current_signal} \\nBackground removed: {total_background - current_background}\")\n",
    "\n"
   ]
  },
  {
   "cell_type": "markdown",
   "metadata": {},
   "source": [
    "### Chi2"
   ]
  },
  {
   "cell_type": "code",
   "execution_count": 132,
   "metadata": {
    "ExecuteTime": {
     "end_time": "2020-09-04T09:04:52.115131Z",
     "start_time": "2020-09-04T09:04:51.639354Z"
    }
   },
   "outputs": [
    {
     "data": {
      "image/png": "[encoded data removed]",
      "text/plain": [
       "<Figure size 864x576 with 1 Axes>"
      ]
     },
     "metadata": {
      "needs_background": "light"
     },
     "output_type": "display_data"
    }
   ],
   "source": [
    "fig, ax = plt.subplots(figsize = (12, 8))\n",
    "ax.hist(df['v0_chi2'].loc[df['trueLa'] == 0], bins = 100, range = (0, 15), color = \"red\", density=1);\n",
    "ax.hist(df['v0_chi2'].loc[df['trueLa'] == 1], bins = 100, range = (0, 15), color = \"green\", alpha = 0.7, density=1);"
   ]
  },
  {
   "cell_type": "code",
   "execution_count": 133,
   "metadata": {
    "ExecuteTime": {
     "end_time": "2020-09-04T09:04:58.484120Z",
     "start_time": "2020-09-04T09:04:52.116093Z"
    }
   },
   "outputs": [
    {
     "name": "stdout",
     "output_type": "stream",
     "text": [
      "0.019949470745909574 0.0\n",
      "0.017554918009818562 0.050505050505050504\n",
      "0.016523464176007936 0.10101010101010101\n",
      "0.015718205557831988 0.15151515151515152\n",
      "0.015086991209898662 0.20202020202020202\n",
      "0.014470924848380336 0.25252525252525254\n",
      "0.013988236515753871 0.30303030303030304\n",
      "0.013497292894337468 0.35353535353535354\n",
      "0.013058531176288612 0.40404040404040403\n",
      "0.01264285614682335 0.45454545454545453\n",
      "0.012251492004516515 0.5050505050505051\n",
      "0.011885468885630864 0.5555555555555556\n",
      "0.011572612457868399 0.6060606060606061\n",
      "0.011261731509553449 0.6565656565656566\n",
      "0.010966807544889563 0.7070707070707071\n",
      "0.01067391335425259 0.7575757575757576\n",
      "0.010395534530799581 0.8080808080808081\n",
      "0.010139031369547172 0.8585858585858586\n",
      "0.009893513991384505 0.9090909090909091\n",
      "0.009665084074231046 0.9595959595959596\n",
      "0.00945503167790919 1.0101010101010102\n",
      "0.009244708901287755 1.0606060606060606\n",
      "0.009039506988442803 1.1111111111111112\n",
      "0.008831583429354396 1.1616161616161615\n",
      "0.008624441252290348 1.2121212121212122\n",
      "0.008445993219158418 1.2626262626262625\n",
      "0.00823741481274951 1.3131313131313131\n",
      "0.008081333614219657 1.3636363636363635\n",
      "0.007931334319587195 1.4141414141414141\n",
      "0.007779059224287206 1.4646464646464645\n",
      "0.007642170999512907 1.5151515151515151\n",
      "0.007502205051328229 1.5656565656565655\n",
      "0.007379222353931212 1.6161616161616161\n",
      "0.007248935233956695 1.6666666666666667\n",
      "0.007119728362103596 1.7171717171717171\n",
      "0.006974730433957857 1.7676767676767677\n",
      "0.0068709173399928835 1.8181818181818181\n",
      "0.0067346417061651094 1.8686868686868687\n",
      "0.0066260320073602405 1.9191919191919191\n",
      "0.006532147910251201 1.9696969696969697\n",
      "0.006413666323581806 2.0202020202020203\n",
      "0.006318498064190239 2.0707070707070705\n",
      "0.006229630195859675 2.121212121212121\n",
      "0.006139895661987222 2.1717171717171717\n",
      "0.006038845195819053 2.2222222222222223\n",
      "0.005947307093757087 2.2727272727272725\n",
      "0.005865243544842357 2.323232323232323\n",
      "0.005797128427003716 2.3737373737373737\n",
      "0.005718735943175181 2.4242424242424243\n",
      "0.00563613309193976 2.474747474747475\n",
      "0.005554657888394716 2.525252525252525\n",
      "0.005485670198880605 2.5757575757575757\n",
      "0.005410197699095275 2.6262626262626263\n",
      "0.005336863049412501 2.676767676767677\n",
      "0.00525916190690337 2.727272727272727\n",
      "0.005198917119722341 2.7777777777777777\n",
      "0.005146059954969257 2.8282828282828283\n",
      "0.005063572716416513 2.878787878787879\n",
      "0.004995483828561258 2.929292929292929\n",
      "0.00494389392205895 2.9797979797979797\n",
      "0.00488539811293506 3.0303030303030303\n",
      "0.004821153570287364 3.080808080808081\n",
      "0.0047519219471544 3.131313131313131\n",
      "0.004692647438483883 3.1818181818181817\n",
      "0.004648057798130795 3.2323232323232323\n",
      "0.00458902929283153 3.282828282828283\n",
      "0.004534015036638906 3.3333333333333335\n",
      "0.00446540512696443 3.3838383838383836\n",
      "0.004403659344744541 3.4343434343434343\n",
      "0.0043507365513237705 3.484848484848485\n",
      "0.004296049904258049 3.5353535353535355\n",
      "0.0042461647209918 3.5858585858585856\n",
      "0.00419695827227589 3.6363636363636362\n",
      "0.0041584815379797 3.686868686868687\n",
      "0.0040990900088299885 3.7373737373737375\n",
      "0.004058307035057212 3.7878787878787876\n",
      "0.004026966556861305 3.8383838383838382\n",
      "0.003967609072115947 3.888888888888889\n",
      "0.003933357657929202 3.9393939393939394\n",
      "0.0038963416693477714 3.9898989898989896\n",
      "0.0038570238977722843 4.040404040404041\n",
      "0.0038124357549879444 4.090909090909091\n",
      "0.0037823627730883247 4.141414141414141\n",
      "0.0037527092427361948 4.191919191919192\n",
      "0.0037273774435699725 4.242424242424242\n",
      "0.0037005794488315633 4.292929292929293\n",
      "0.003665981633309409 4.343434343434343\n",
      "0.0036418282377222643 4.393939393939394\n",
      "0.0036164128176948175 4.444444444444445\n",
      "0.00359322558492683 4.494949494949495\n",
      "0.0035628839756050223 4.545454545454545\n",
      "0.003528845955252109 4.595959595959596\n",
      "0.0034969508294596784 4.646464646464646\n",
      "0.0034605086077776955 4.696969696969697\n",
      "0.003429250162841488 4.747474747474747\n",
      "0.0034170880838076184 4.797979797979798\n",
      "0.003387533180702954 4.848484848484849\n",
      "0.0033640654948608574 4.898989898989899\n",
      "0.003348662255301093 4.94949494949495\n",
      "0.0033310488651939556 5.0\n"
     ]
    }
   ],
   "source": [
    "for i in np.linspace(0,5,100):\n",
    "    a=(df['v0_chi2'].loc[df['trueLa'] == 1] > i).sum()/(df['v0_chi2'].loc[df['trueLa'] == 0] > i).sum()\n",
    "    print(a, i)"
   ]
  },
  {
   "cell_type": "markdown",
   "metadata": {},
   "source": [
    "We cut at 3 and up"
   ]
  },
  {
   "cell_type": "code",
   "execution_count": 148,
   "metadata": {
    "ExecuteTime": {
     "end_time": "2020-09-04T09:10:11.771227Z",
     "start_time": "2020-09-04T09:10:11.758226Z"
    }
   },
   "outputs": [],
   "source": [
    "cutchi2=3\n",
    "df = df.loc[df['v0_chi2'] < cutchi2]"
   ]
  },
  {
   "cell_type": "code",
   "execution_count": 135,
   "metadata": {
    "ExecuteTime": {
     "end_time": "2020-09-04T09:04:58.612411Z",
     "start_time": "2020-09-04T09:04:58.596817Z"
    }
   },
   "outputs": [
    {
     "name": "stdout",
     "output_type": "stream",
     "text": [
      "The total amount of signal events is:   67521 \n",
      "and the amount of background events is: 2377509\n",
      "Signal is 2.76 %\n",
      "Signal removed: 10664 \n",
      "Background removed: 6452448\n"
     ]
    }
   ],
   "source": [
    "current_signal, current_background = df['trueLa'].sum(), (df['trueLa'] == 0).sum()\n",
    "print(f\"The total amount of signal events is:   {current_signal} \\nand the amount of background events is: {current_background}\")\n",
    "\n",
    "print(\"Signal is {:.2f} %\".format(current_signal/(current_background + current_signal) * 100))\n",
    "\n",
    "print(f\"Signal removed: {total_signal - current_signal} \\nBackground removed: {total_background - current_background}\")\n",
    "\n"
   ]
  },
  {
   "cell_type": "markdown",
   "metadata": {},
   "source": [
    "### CosTheta"
   ]
  },
  {
   "cell_type": "code",
   "execution_count": 136,
   "metadata": {
    "ExecuteTime": {
     "end_time": "2020-09-04T09:04:59.064883Z",
     "start_time": "2020-09-04T09:04:58.613409Z"
    }
   },
   "outputs": [
    {
     "data": {
      "image/png": "[encoded data removed]",
      "text/plain": [
       "<Figure size 864x576 with 1 Axes>"
      ]
     },
     "metadata": {
      "needs_background": "light"
     },
     "output_type": "display_data"
    }
   ],
   "source": [
    "fig, ax = plt.subplots(figsize = (12, 8))\n",
    "ax.hist(df['cosTheta'].loc[df['trueLa'] == 0], bins = 100, range = (-1, 1), color = \"red\", density=1);\n",
    "ax.hist(df['cosTheta'].loc[df['trueLa'] == 1], bins = 100, range = (-1, 1), color = \"green\", alpha = 0.7, density=1);"
   ]
  },
  {
   "cell_type": "code",
   "execution_count": 149,
   "metadata": {
    "ExecuteTime": {
     "end_time": "2020-09-04T09:10:28.382671Z",
     "start_time": "2020-09-04T09:10:28.375103Z"
    }
   },
   "outputs": [
    {
     "data": {
      "text/plain": [
       "0"
      ]
     },
     "execution_count": 149,
     "metadata": {},
     "output_type": "execute_result"
    }
   ],
   "source": [
    "cutcos=0.9995\n",
    "(df['cosTheta'].loc[df['trueLa'] == 0] < cutcos).sum()"
   ]
  },
  {
   "cell_type": "markdown",
   "metadata": {},
   "source": [
    "Set cut at 0.9995"
   ]
  },
  {
   "cell_type": "code",
   "execution_count": 138,
   "metadata": {
    "ExecuteTime": {
     "end_time": "2020-09-04T09:04:59.158352Z",
     "start_time": "2020-09-04T09:04:59.108968Z"
    }
   },
   "outputs": [],
   "source": [
    "df = df.loc[df['cosTheta'] > 0.9995]"
   ]
  },
  {
   "cell_type": "code",
   "execution_count": 139,
   "metadata": {
    "ExecuteTime": {
     "end_time": "2020-09-04T09:04:59.168327Z",
     "start_time": "2020-09-04T09:04:59.159350Z"
    }
   },
   "outputs": [
    {
     "name": "stdout",
     "output_type": "stream",
     "text": [
      "The total amount of signal events is:   62558 \n",
      "and the amount of background events is: 792119\n",
      "Signal is 7.32 %\n",
      "Signal removed: 15627 \n",
      "Background removed: 8037838\n"
     ]
    }
   ],
   "source": [
    "current_signal, current_background = df['trueLa'].sum(), (df['trueLa'] == 0).sum()\n",
    "print(f\"The total amount of signal events is:   {current_signal} \\nand the amount of background events is: {current_background}\")\n",
    "\n",
    "print(\"Signal is {:.2f} %\".format(current_signal/(current_background + current_signal) * 100))\n",
    "\n",
    "print(f\"Signal removed: {total_signal - current_signal} \\nBackground removed: {total_background - current_background}\")"
   ]
  },
  {
   "cell_type": "markdown",
   "metadata": {},
   "source": [
    "### Lambda mass"
   ]
  },
  {
   "cell_type": "code",
   "execution_count": 140,
   "metadata": {
    "ExecuteTime": {
     "end_time": "2020-09-04T09:04:59.570261Z",
     "start_time": "2020-09-04T09:04:59.171208Z"
    }
   },
   "outputs": [
    {
     "data": {
      "image/png": "[encoded data removed]",
      "text/plain": [
       "<Figure size 864x576 with 1 Axes>"
      ]
     },
     "metadata": {
      "needs_background": "light"
     },
     "output_type": "display_data"
    }
   ],
   "source": [
    "fig, ax = plt.subplots(figsize = (12, 8))\n",
    "ax.hist(df['v0_la_mass'].loc[df['trueLa'] == 0], bins = 100, color = \"red\");\n",
    "ax.hist(df['v0_la_mass'].loc[df['trueLa'] == 1], bins = 100, color = \"green\", alpha = 0.7);"
   ]
  },
  {
   "cell_type": "code",
   "execution_count": 141,
   "metadata": {
    "ExecuteTime": {
     "end_time": "2020-09-04T09:04:59.594241Z",
     "start_time": "2020-09-04T09:04:59.572217Z"
    }
   },
   "outputs": [
    {
     "data": {
      "text/plain": [
       "count    62558.000000\n",
       "mean      1116.585083\n",
       "std         10.310363\n",
       "min       1078.602295\n",
       "25%       1114.213531\n",
       "50%       1116.105164\n",
       "75%       1118.144257\n",
       "max       2343.993408\n",
       "Name: v0_la_mass, dtype: float64"
      ]
     },
     "execution_count": 141,
     "metadata": {},
     "output_type": "execute_result"
    }
   ],
   "source": [
    "mu, std=df['v0_la_mass'].loc[df['trueLa'] == 1].mean(), df['v0_la_mass'].loc[df['trueLa'] == 1].std()\n",
    "df['v0_la_mass'].loc[df['trueLa'] == 1].describe()"
   ]
  },
  {
   "cell_type": "markdown",
   "metadata": {},
   "source": [
    "We make a n sigma cut, so 1116,58 +/- n*10,3"
   ]
  },
  {
   "cell_type": "code",
   "execution_count": 150,
   "metadata": {
    "ExecuteTime": {
     "end_time": "2020-09-04T09:11:03.438470Z",
     "start_time": "2020-09-04T09:11:03.428485Z"
    }
   },
   "outputs": [
    {
     "data": {
      "text/plain": [
       "0"
      ]
     },
     "execution_count": 150,
     "metadata": {},
     "output_type": "execute_result"
    }
   ],
   "source": [
    "n=4\n",
    "(abs(df['v0_la_mass'].loc[df['trueLa'] == 1] - mu) > n * std).sum()"
   ]
  },
  {
   "cell_type": "code",
   "execution_count": 151,
   "metadata": {
    "ExecuteTime": {
     "end_time": "2020-09-04T09:11:07.079813Z",
     "start_time": "2020-09-04T09:11:07.069754Z"
    }
   },
   "outputs": [],
   "source": [
    "df = df.loc[abs(df['v0_la_mass'] - mu) < n * std]"
   ]
  },
  {
   "cell_type": "code",
   "execution_count": 144,
   "metadata": {
    "ExecuteTime": {
     "end_time": "2020-09-04T09:04:59.640321Z",
     "start_time": "2020-09-04T09:04:59.628355Z"
    },
    "scrolled": true
   },
   "outputs": [
    {
     "name": "stdout",
     "output_type": "stream",
     "text": [
      "The total amount of signal events is:   62408 \n",
      "and the amount of background events is: 87691\n",
      "Signal is 41.58 %\n",
      "Signal removed: 15777 \n",
      "Background removed: 8742266\n"
     ]
    }
   ],
   "source": [
    "current_signal, current_background = df['trueLa'].sum(), (df['trueLa'] == 0).sum()\n",
    "print(f\"The total amount of signal events is:   {current_signal} \\nand the amount of background events is: {current_background}\")\n",
    "\n",
    "print(\"Signal is {:.2f} %\".format(current_signal/(current_background + current_signal) * 100))\n",
    "\n",
    "print(f\"Signal removed: {total_signal - current_signal} \\nBackground removed: {total_background - current_background}\")"
   ]
  },
  {
   "cell_type": "markdown",
   "metadata": {},
   "source": [
    "## Try plot after cuts"
   ]
  },
  {
   "cell_type": "code",
   "execution_count": 146,
   "metadata": {
    "ExecuteTime": {
     "end_time": "2020-09-04T09:05:47.001173Z",
     "start_time": "2020-09-04T09:05:44.433286Z"
    }
   },
   "outputs": [
    {
     "data": {
      "image/png": "[encoded data removed]",
      "text/plain": [
       "<Figure size 1224x504 with 8 Axes>"
      ]
     },
     "metadata": {
      "needs_background": "light"
     },
     "output_type": "display_data"
    }
   ],
   "source": [
    "fig, ax = plt.subplots(ncols = 4, nrows = 2, figsize = (17, 7))\n",
    "\n",
    "plot_values = \"v0_rxy v0_chi2 cosTheta v0_la_mass\".split(\" \") # Values to plot \n",
    "trueLa = df[\"trueLa\"].astype(bool) # Identify true/false for Ks \n",
    "\n",
    "for i, col in enumerate(plot_values):\n",
    "    ax[0][i].set_title(col)\n",
    "    ax[0][i].hist(df[col].loc[trueLa], bins = bins, color = \"green\")\n",
    "    ax[1][i].hist(df[col].loc[trueLa.apply(lambda x: not x)], bins = bins, color = \"red\")\n",
    "    \n",
    "ax[0][0].set_ylabel(\"TrueLa\")\n",
    "ax[1][0].set_ylabel(\"FalseLa\")\n",
    "\n",
    "fig.tight_layout()"
   ]
  },
  {
   "cell_type": "code",
   "execution_count": 153,
   "metadata": {
    "ExecuteTime": {
     "end_time": "2020-09-04T09:12:26.823517Z",
     "start_time": "2020-09-04T09:12:26.818224Z"
    }
   },
   "outputs": [],
   "source": [
    "cuts={'v0_rxy': (cutlow, cutup), 'v0_chi2': cutchi2, 'cosTheta': cutcos, 'v0_la_mass': (mu, std, n)}"
   ]
  },
  {
   "cell_type": "code",
   "execution_count": 160,
   "metadata": {
    "ExecuteTime": {
     "end_time": "2020-09-04T09:44:21.655285Z",
     "start_time": "2020-09-04T09:44:21.650061Z"
    }
   },
   "outputs": [],
   "source": [
    "import dill, pickle"
   ]
  },
  {
   "cell_type": "code",
   "execution_count": 171,
   "metadata": {
    "ExecuteTime": {
     "end_time": "2020-09-04T09:54:34.476981Z",
     "start_time": "2020-09-04T09:54:34.330442Z"
    }
   },
   "outputs": [
    {
     "data": {
      "image/png": "[encoded data removed]",
      "text/plain": [
       "<Figure size 432x288 with 1 Axes>"
      ]
     },
     "metadata": {
      "needs_background": "light"
     },
     "output_type": "display_data"
    }
   ],
   "source": [
    "fig, ax = plt.subplots()\n",
    "corr=df.corr()\n",
    "im = ax.imshow(corr)\n",
    "\n",
    "# We want to show all ticks...\n",
    "ax.set_xticks(np.arange(len(df.columns)-1))\n",
    "ax.set_yticks(np.arange(len(df.columns)-1))\n",
    "# ... and label them with the respective list entries\n",
    "ax.set_xticklabels(df.columns[:-1])\n",
    "ax.set_yticklabels(df.columns[:-1])\n",
    "\n",
    "# Rotate the tick labels and set their alignment.\n",
    "plt.setp(ax.get_xticklabels(), rotation=45, ha=\"right\",\n",
    "         rotation_mode=\"anchor\")\n",
    "\n",
    "# Loop over data dimensions and create text annotations.\n",
    "for i in range(len(df.columns)-1):\n",
    "    for j in range(len(df.columns)-1):\n",
    "        text = ax.text(j, i, np.round(corr[df.columns[i]][df.columns[j]], 2),\n",
    "                       ha=\"center\", va=\"center\", color=\"w\")\n",
    "\n",
    "ax.set_title(\"Harvest of local farmers (in tons/year)\")\n",
    "fig.tight_layout()\n",
    "plt.show()"
   ]
  },
  {
   "cell_type": "code",
   "execution_count": 169,
   "metadata": {
    "ExecuteTime": {
     "end_time": "2020-09-04T09:50:27.018549Z",
     "start_time": "2020-09-04T09:50:26.982598Z"
    }
   },
   "outputs": [
    {
     "data": {
      "text/html": [
       "<div>\n",
       "<style scoped>\n",
       "    .dataframe tbody tr th:only-of-type {\n",
       "        vertical-align: middle;\n",
       "    }\n",
       "\n",
       "    .dataframe tbody tr th {\n",
       "        vertical-align: top;\n",
       "    }\n",
       "\n",
       "    .dataframe thead th {\n",
       "        text-align: right;\n",
       "    }\n",
       "</style>\n",
       "<table border=\"1\" class=\"dataframe\">\n",
       "  <thead>\n",
       "    <tr style=\"text-align: right;\">\n",
       "      <th></th>\n",
       "      <th>v0_rxy</th>\n",
       "      <th>v0_chi2</th>\n",
       "      <th>cosTheta</th>\n",
       "      <th>v0_la_mass</th>\n",
       "      <th>trueLa</th>\n",
       "    </tr>\n",
       "  </thead>\n",
       "  <tbody>\n",
       "    <tr>\n",
       "      <th>v0_rxy</th>\n",
       "      <td>1.000000</td>\n",
       "      <td>-0.117931</td>\n",
       "      <td>0.076580</td>\n",
       "      <td>-0.059742</td>\n",
       "      <td>-0.110772</td>\n",
       "    </tr>\n",
       "    <tr>\n",
       "      <th>v0_chi2</th>\n",
       "      <td>-0.117931</td>\n",
       "      <td>1.000000</td>\n",
       "      <td>-0.101724</td>\n",
       "      <td>-0.025908</td>\n",
       "      <td>-0.001451</td>\n",
       "    </tr>\n",
       "    <tr>\n",
       "      <th>cosTheta</th>\n",
       "      <td>0.076580</td>\n",
       "      <td>-0.101724</td>\n",
       "      <td>1.000000</td>\n",
       "      <td>-0.041227</td>\n",
       "      <td>0.182700</td>\n",
       "    </tr>\n",
       "    <tr>\n",
       "      <th>v0_la_mass</th>\n",
       "      <td>-0.059742</td>\n",
       "      <td>-0.025908</td>\n",
       "      <td>-0.041227</td>\n",
       "      <td>1.000000</td>\n",
       "      <td>-0.341220</td>\n",
       "    </tr>\n",
       "    <tr>\n",
       "      <th>trueLa</th>\n",
       "      <td>-0.110772</td>\n",
       "      <td>-0.001451</td>\n",
       "      <td>0.182700</td>\n",
       "      <td>-0.341220</td>\n",
       "      <td>1.000000</td>\n",
       "    </tr>\n",
       "  </tbody>\n",
       "</table>\n",
       "</div>"
      ],
      "text/plain": [
       "              v0_rxy   v0_chi2  cosTheta  v0_la_mass    trueLa\n",
       "v0_rxy      1.000000 -0.117931  0.076580   -0.059742 -0.110772\n",
       "v0_chi2    -0.117931  1.000000 -0.101724   -0.025908 -0.001451\n",
       "cosTheta    0.076580 -0.101724  1.000000   -0.041227  0.182700\n",
       "v0_la_mass -0.059742 -0.025908 -0.041227    1.000000 -0.341220\n",
       "trueLa     -0.110772 -0.001451  0.182700   -0.341220  1.000000"
      ]
     },
     "execution_count": 169,
     "metadata": {},
     "output_type": "execute_result"
    }
   ],
   "source": [
    "df.corr()"
   ]
  }
 ],
 "metadata": {
  "hide_input": false,
  "kernelspec": {
   "display_name": "Python 3",
   "language": "python",
   "name": "python3"
  },
  "language_info": {
   "codemirror_mode": {
    "name": "ipython",
    "version": 3
   },
   "file_extension": ".py",
   "mimetype": "text/x-python",
   "name": "python",
   "nbconvert_exporter": "python",
   "pygments_lexer": "ipython3",
   "version": "3.7.4"
  },
  "latex_envs": {
   "LaTeX_envs_menu_present": true,
   "autoclose": false,
   "autocomplete": true,
   "bibliofile": "biblio.bib",
   "cite_by": "apalike",
   "current_citInitial": 1,
   "eqLabelWithNumbers": true,
   "eqNumInitial": 1,
   "hotkeys": {
    "equation": "Ctrl-E",
    "itemize": "Ctrl-I"
   },
   "labels_anchors": false,
   "latex_user_defs": false,
   "report_style_numbering": false,
   "user_envs_cfg": false
  },
  "toc": {
   "base_numbering": 1,
   "nav_menu": {},
   "number_sections": true,
   "sideBar": true,
   "skip_h1_title": true,
   "title_cell": "Table of Contents",
   "title_sidebar": "Contents",
   "toc_cell": false,
   "toc_position": {},
   "toc_section_display": true,
   "toc_window_display": false
  }
 },
 "nbformat": 4,
 "nbformat_minor": 4
}
