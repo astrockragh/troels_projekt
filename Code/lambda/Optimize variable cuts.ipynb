{
 "cells": [
  {
   "cell_type": "markdown",
   "metadata": {},
   "source": [
    "## Setup"
   ]
  },
  {
   "cell_type": "code",
   "execution_count": 3,
   "metadata": {
    "ExecuteTime": {
     "end_time": "2020-09-10T08:49:28.886347Z",
     "start_time": "2020-09-10T08:49:28.089946Z"
    }
   },
   "outputs": [],
   "source": [
    "import uproot\n",
    "import pandas as pd\n",
    "import numpy as np\n",
    "import matplotlib.pyplot as plt"
   ]
  },
  {
   "cell_type": "code",
   "execution_count": 61,
   "metadata": {
    "ExecuteTime": {
     "end_time": "2020-09-10T08:55:52.513323Z",
     "start_time": "2020-09-10T08:55:52.510331Z"
    }
   },
   "outputs": [],
   "source": [
    "path = \"../../data/mc15_13TeV.361203.Pythia8_A2_MSTW2008LO_ND_minbias.30062015_v0_per_0.root\"\n",
    "\n",
    "train, test = 5e4, 5e4\n",
    "minimum_sig_ration = 0.9"
   ]
  },
  {
   "cell_type": "code",
   "execution_count": 62,
   "metadata": {
    "ExecuteTime": {
     "end_time": "2020-09-10T08:55:53.146758Z",
     "start_time": "2020-09-10T08:55:53.036056Z"
    }
   },
   "outputs": [
    {
     "data": {
      "text/plain": [
       "(4739, 21.193452290743007)"
      ]
     },
     "execution_count": 62,
     "metadata": {},
     "output_type": "execute_result"
    }
   ],
   "source": [
    "file = uproot.open(path)\n",
    "T = file['tree']\n",
    "\n",
    "\n",
    "df = T.pandas.df(\"v0_rxy v0_chi2 cosTheta v0_ks_mass trueKs\".split(\" \"), entrystop = train)\n",
    "\n",
    "\n",
    "means, stds = [], []\n",
    "\n",
    "# Normalize:\n",
    "for col in df.columns[:-1]:\n",
    "    means.append(df[col].mean())\n",
    "    stds.append(df[col].std())\n",
    "    df[col] = (df[col] - df[col].mean()) / df[col].std() \n",
    "    \n",
    "total_sig_noise = (df['trueKs'] == 1).sum() / np.sqrt(len(df))\n",
    "total_sig = (df['trueKs'] == 1).sum()\n",
    "total_sig, total_sig_noise"
   ]
  },
  {
   "cell_type": "markdown",
   "metadata": {},
   "source": [
    "## Functions\n",
    "We want to make an optimizer for finding the best signal to noise ratio"
   ]
  },
  {
   "cell_type": "code",
   "execution_count": 63,
   "metadata": {
    "ExecuteTime": {
     "end_time": "2020-09-10T08:55:53.159724Z",
     "start_time": "2020-09-10T08:55:53.149754Z"
    }
   },
   "outputs": [],
   "source": [
    "# Significance\n",
    "def signal_to_noise(x):\n",
    "    rxy_low, rxy_high, chi2_high, cosTheta_low, mass_low, mass_high = x\n",
    "    \n",
    "    cop = df.copy()\n",
    "    \n",
    "    cop = cop.loc[np.logical_and(cop['v0_rxy'] > rxy_low, cop['v0_rxy'] < rxy_high)]\n",
    "    cop = cop.loc[cop['v0_chi2'] < chi2_high]\n",
    "    cop = cop.loc[cop['cosTheta'] > cosTheta_low]\n",
    "    cop = cop.loc[np.logical_and(cop['v0_ks_mass'] > mass_low, cop['v0_ks_mass'] < mass_high)]\n",
    "    \n",
    "    return -(cop['trueKs'] == 1).sum() / np.sqrt(len(cop))\n",
    "\n",
    "\n",
    "def amount_of_signal(x):\n",
    "    rxy_low, rxy_high, chi2_high, cosTheta_low, mass_low, mass_high = x\n",
    "    \n",
    "    cop = df.copy()\n",
    "    \n",
    "    cop = cop.loc[np.logical_and(cop['v0_rxy'] > rxy_low, cop['v0_rxy'] < rxy_high)]\n",
    "    cop = cop.loc[cop['v0_chi2'] < chi2_high]\n",
    "    cop = cop.loc[cop['cosTheta'] > cosTheta_low]\n",
    "    cop = cop.loc[np.logical_and(cop['v0_ks_mass'] > mass_low, cop['v0_ks_mass'] < mass_high)]\n",
    "    \n",
    "    return (cop['trueKs'] == 1).sum()"
   ]
  },
  {
   "cell_type": "markdown",
   "metadata": {},
   "source": [
    "## Minimize"
   ]
  },
  {
   "cell_type": "code",
   "execution_count": 64,
   "metadata": {
    "ExecuteTime": {
     "end_time": "2020-09-10T08:55:53.189643Z",
     "start_time": "2020-09-10T08:55:53.184659Z"
    }
   },
   "outputs": [],
   "source": [
    "# Guesses:\n",
    "rxy_low, rxy_high = -1, 1\n",
    "chi2_high = 0\n",
    "cosTheta_low = 0\n",
    "mass_low, mass_high = -1, 1\n",
    "\n",
    "# In vector\n",
    "x0 = [rxy_low, rxy_high, chi2_high, cosTheta_low, mass_low, mass_high]"
   ]
  },
  {
   "cell_type": "code",
   "execution_count": 65,
   "metadata": {
    "ExecuteTime": {
     "end_time": "2020-09-10T08:55:53.225549Z",
     "start_time": "2020-09-10T08:55:53.221560Z"
    }
   },
   "outputs": [],
   "source": [
    "# Set the least amount of acceptet signal\n",
    "# we want to keep at least half of the original signal\n",
    "minimum_signal = total_sig *  minimum_sig_ration"
   ]
  },
  {
   "cell_type": "code",
   "execution_count": 66,
   "metadata": {
    "ExecuteTime": {
     "end_time": "2020-09-10T08:55:53.263481Z",
     "start_time": "2020-09-10T08:55:53.260454Z"
    }
   },
   "outputs": [],
   "source": [
    "from scipy.optimize import minimize"
   ]
  },
  {
   "cell_type": "code",
   "execution_count": 78,
   "metadata": {
    "ExecuteTime": {
     "end_time": "2020-09-10T08:56:45.042049Z",
     "start_time": "2020-09-10T08:56:43.373666Z"
    },
    "scrolled": true
   },
   "outputs": [
    {
     "name": "stderr",
     "output_type": "stream",
     "text": [
      "C:\\Users\\chris\\Anaconda3\\lib\\site-packages\\ipykernel_launcher.py:12: RuntimeWarning: invalid value encountered in true_divide\n",
      "  if sys.path[0] == '':\n",
      "C:\\Users\\chris\\Anaconda3\\lib\\site-packages\\ipykernel_launcher.py:12: RuntimeWarning: invalid value encountered in true_divide\n",
      "  if sys.path[0] == '':\n",
      "C:\\Users\\chris\\Anaconda3\\lib\\site-packages\\ipykernel_launcher.py:12: RuntimeWarning: invalid value encountered in true_divide\n",
      "  if sys.path[0] == '':\n",
      "C:\\Users\\chris\\Anaconda3\\lib\\site-packages\\ipykernel_launcher.py:12: RuntimeWarning: invalid value encountered in true_divide\n",
      "  if sys.path[0] == '':\n",
      "C:\\Users\\chris\\Anaconda3\\lib\\site-packages\\ipykernel_launcher.py:12: RuntimeWarning: invalid value encountered in true_divide\n",
      "  if sys.path[0] == '':\n",
      "C:\\Users\\chris\\Anaconda3\\lib\\site-packages\\ipykernel_launcher.py:12: RuntimeWarning: invalid value encountered in true_divide\n",
      "  if sys.path[0] == '':\n",
      "C:\\Users\\chris\\Anaconda3\\lib\\site-packages\\ipykernel_launcher.py:12: RuntimeWarning: invalid value encountered in true_divide\n",
      "  if sys.path[0] == '':\n",
      "C:\\Users\\chris\\Anaconda3\\lib\\site-packages\\ipykernel_launcher.py:12: RuntimeWarning: invalid value encountered in true_divide\n",
      "  if sys.path[0] == '':\n",
      "C:\\Users\\chris\\Anaconda3\\lib\\site-packages\\ipykernel_launcher.py:12: RuntimeWarning: invalid value encountered in true_divide\n",
      "  if sys.path[0] == '':\n",
      "C:\\Users\\chris\\Anaconda3\\lib\\site-packages\\ipykernel_launcher.py:12: RuntimeWarning: invalid value encountered in true_divide\n",
      "  if sys.path[0] == '':\n",
      "C:\\Users\\chris\\Anaconda3\\lib\\site-packages\\ipykernel_launcher.py:12: RuntimeWarning: invalid value encountered in true_divide\n",
      "  if sys.path[0] == '':\n",
      "C:\\Users\\chris\\Anaconda3\\lib\\site-packages\\ipykernel_launcher.py:12: RuntimeWarning: invalid value encountered in true_divide\n",
      "  if sys.path[0] == '':\n",
      "C:\\Users\\chris\\Anaconda3\\lib\\site-packages\\ipykernel_launcher.py:12: RuntimeWarning: invalid value encountered in true_divide\n",
      "  if sys.path[0] == '':\n",
      "C:\\Users\\chris\\Anaconda3\\lib\\site-packages\\ipykernel_launcher.py:12: RuntimeWarning: invalid value encountered in true_divide\n",
      "  if sys.path[0] == '':\n",
      "C:\\Users\\chris\\Anaconda3\\lib\\site-packages\\ipykernel_launcher.py:12: RuntimeWarning: invalid value encountered in true_divide\n",
      "  if sys.path[0] == '':\n",
      "C:\\Users\\chris\\Anaconda3\\lib\\site-packages\\ipykernel_launcher.py:12: RuntimeWarning: invalid value encountered in true_divide\n",
      "  if sys.path[0] == '':\n",
      "C:\\Users\\chris\\Anaconda3\\lib\\site-packages\\ipykernel_launcher.py:12: RuntimeWarning: invalid value encountered in true_divide\n",
      "  if sys.path[0] == '':\n",
      "C:\\Users\\chris\\Anaconda3\\lib\\site-packages\\ipykernel_launcher.py:12: RuntimeWarning: invalid value encountered in true_divide\n",
      "  if sys.path[0] == '':\n",
      "C:\\Users\\chris\\Anaconda3\\lib\\site-packages\\ipykernel_launcher.py:12: RuntimeWarning: invalid value encountered in true_divide\n",
      "  if sys.path[0] == '':\n",
      "C:\\Users\\chris\\Anaconda3\\lib\\site-packages\\ipykernel_launcher.py:12: RuntimeWarning: invalid value encountered in true_divide\n",
      "  if sys.path[0] == '':\n",
      "C:\\Users\\chris\\Anaconda3\\lib\\site-packages\\ipykernel_launcher.py:12: RuntimeWarning: invalid value encountered in true_divide\n",
      "  if sys.path[0] == '':\n",
      "C:\\Users\\chris\\Anaconda3\\lib\\site-packages\\ipykernel_launcher.py:12: RuntimeWarning: invalid value encountered in true_divide\n",
      "  if sys.path[0] == '':\n",
      "C:\\Users\\chris\\Anaconda3\\lib\\site-packages\\ipykernel_launcher.py:12: RuntimeWarning: invalid value encountered in true_divide\n",
      "  if sys.path[0] == '':\n",
      "C:\\Users\\chris\\Anaconda3\\lib\\site-packages\\ipykernel_launcher.py:12: RuntimeWarning: invalid value encountered in true_divide\n",
      "  if sys.path[0] == '':\n",
      "C:\\Users\\chris\\Anaconda3\\lib\\site-packages\\ipykernel_launcher.py:12: RuntimeWarning: invalid value encountered in true_divide\n",
      "  if sys.path[0] == '':\n",
      "C:\\Users\\chris\\Anaconda3\\lib\\site-packages\\ipykernel_launcher.py:12: RuntimeWarning: invalid value encountered in true_divide\n",
      "  if sys.path[0] == '':\n",
      "C:\\Users\\chris\\Anaconda3\\lib\\site-packages\\ipykernel_launcher.py:12: RuntimeWarning: invalid value encountered in true_divide\n",
      "  if sys.path[0] == '':\n",
      "C:\\Users\\chris\\Anaconda3\\lib\\site-packages\\ipykernel_launcher.py:12: RuntimeWarning: invalid value encountered in true_divide\n",
      "  if sys.path[0] == '':\n",
      "C:\\Users\\chris\\Anaconda3\\lib\\site-packages\\ipykernel_launcher.py:12: RuntimeWarning: invalid value encountered in true_divide\n",
      "  if sys.path[0] == '':\n",
      "C:\\Users\\chris\\Anaconda3\\lib\\site-packages\\ipykernel_launcher.py:12: RuntimeWarning: invalid value encountered in true_divide\n",
      "  if sys.path[0] == '':\n",
      "C:\\Users\\chris\\Anaconda3\\lib\\site-packages\\ipykernel_launcher.py:12: RuntimeWarning: invalid value encountered in true_divide\n",
      "  if sys.path[0] == '':\n",
      "C:\\Users\\chris\\Anaconda3\\lib\\site-packages\\ipykernel_launcher.py:12: RuntimeWarning: invalid value encountered in true_divide\n",
      "  if sys.path[0] == '':\n",
      "C:\\Users\\chris\\Anaconda3\\lib\\site-packages\\ipykernel_launcher.py:12: RuntimeWarning: invalid value encountered in true_divide\n",
      "  if sys.path[0] == '':\n"
     ]
    }
   ],
   "source": [
    "y = minimize(lambda x: signal_to_noise(x), x0 = x0, \\\n",
    "         options = {'eps': 0.01}, \\\n",
    "         constraints = {'type': \"ineq\", 'fun': lambda x:  amount_of_signal(x) - minimum_signal})"
   ]
  },
  {
   "cell_type": "code",
   "execution_count": 79,
   "metadata": {
    "ExecuteTime": {
     "end_time": "2020-09-10T08:56:46.376058Z",
     "start_time": "2020-09-10T08:56:46.365056Z"
    }
   },
   "outputs": [],
   "source": [
    "sig_to_noise = -y.fun\n",
    "sig_amount   = amount_of_signal(y.x)"
   ]
  },
  {
   "cell_type": "code",
   "execution_count": 80,
   "metadata": {
    "ExecuteTime": {
     "end_time": "2020-09-10T08:56:46.599930Z",
     "start_time": "2020-09-10T08:56:46.592950Z"
    }
   },
   "outputs": [],
   "source": [
    "rxy_low, rxy_high, chi2_high, cosTheta_low, mass_low, mass_high = y.x\n",
    "\n",
    "rxy_low_min = (rxy_low * stds[0]) + means[0]\n",
    "rxy_high_min = (rxy_high * stds[0]) + means[0]\n",
    "chi2_high_min = (chi2_high * stds[1]) + means[1]\n",
    "cos_Theta_low_min = (cosTheta_low * stds[2]) + means[2] \n",
    "mass_low_min = (mass_low * stds[3]) + means[3]\n",
    "mass_high_min = (mass_high * stds[3]) + means[3]"
   ]
  },
  {
   "cell_type": "code",
   "execution_count": 81,
   "metadata": {
    "ExecuteTime": {
     "end_time": "2020-09-10T08:56:47.043978Z",
     "start_time": "2020-09-10T08:56:47.039952Z"
    }
   },
   "outputs": [
    {
     "name": "stdout",
     "output_type": "stream",
     "text": [
      "\n",
      "The new cuts are: rxy between -60.818 and 114.783\n",
      "For chi2 it is lower than 4.153\n",
      "For cosTheta, the cut is over 0.9931\n",
      "For mass it is between 475.697 and 573.452\n",
      "\n",
      "In train data we have:\n",
      "signal to noise is 59.34, up from 21.19\n",
      "Amount of signal is 4044, down from 4739\n",
      "\n"
     ]
    }
   ],
   "source": [
    "cut_string = f\"\"\"\n",
    "The new cuts are: rxy between {rxy_low_min:.3f} and {rxy_high_min:.3f}\n",
    "For chi2 it is lower than {chi2_high_min:.3f}\n",
    "For cosTheta, the cut is over {cos_Theta_low_min:.4f}\n",
    "For mass it is between {mass_low_min:.3f} and {mass_high_min:.3f}\n",
    "\n",
    "In train data we have:\n",
    "signal to noise is {sig_to_noise:.2f}, up from {total_sig_noise:.2f}\n",
    "Amount of signal is {sig_amount}, down from {total_sig}\n",
    "\"\"\"\n",
    "\n",
    "print(cut_string)"
   ]
  },
  {
   "cell_type": "markdown",
   "metadata": {},
   "source": [
    "## In test data"
   ]
  },
  {
   "cell_type": "code",
   "execution_count": 82,
   "metadata": {
    "ExecuteTime": {
     "end_time": "2020-09-10T08:56:54.039717Z",
     "start_time": "2020-09-10T08:56:54.006456Z"
    }
   },
   "outputs": [],
   "source": [
    "df_test = T.pandas.df(\"v0_rxy v0_chi2 cosTheta v0_ks_mass trueKs\".split(\" \"), entrystart = train, entrystop = test + train)\n",
    "\n",
    "total_test_sig = (df_test['trueKs'] == 1).sum()\n",
    "total_sig_noise_test = (df_test['trueKs'] == 1).sum() / (df_test['trueKs'] == 0).sum()\n",
    "# print(total_test_sig)\n",
    "\n",
    "df_test = df_test.loc[np.logical_and(df_test['v0_rxy'] > rxy_low_min, df_test['v0_rxy'] < rxy_high_min)]\n",
    "df_test = df_test.loc[df_test['v0_chi2'] < chi2_high_min]\n",
    "df_test = df_test.loc[df_test['cosTheta'] > cos_Theta_low_min]\n",
    "df_test = df_test.loc[np.logical_and(df_test['v0_ks_mass'] > mass_low_min, df_test['v0_ks_mass'] < mass_high_min)]\n",
    "\n"
   ]
  },
  {
   "cell_type": "code",
   "execution_count": 84,
   "metadata": {
    "ExecuteTime": {
     "end_time": "2020-09-10T08:57:14.449981Z",
     "start_time": "2020-09-10T08:57:14.444006Z"
    }
   },
   "outputs": [],
   "source": [
    "sig_noise_test, sig_test_after = (df_test['trueKs'] == 1).sum() / len(df_test), (df_test['trueKs'] == 1).sum()"
   ]
  },
  {
   "cell_type": "code",
   "execution_count": 87,
   "metadata": {
    "ExecuteTime": {
     "end_time": "2020-09-10T08:58:02.134648Z",
     "start_time": "2020-09-10T08:57:59.712522Z"
    }
   },
   "outputs": [
    {
     "data": {
      "image/png": "[encoded data removed]",
      "text/plain": [
       "<Figure size 1224x504 with 8 Axes>"
      ]
     },
     "metadata": {
      "needs_background": "light"
     },
     "output_type": "display_data"
    }
   ],
   "source": [
    "fig, ax = plt.subplots(ncols = 4, nrows = 2, figsize = (17, 7))\n",
    "bins = 100\n",
    "\n",
    "plot_values = \"v0_rxy v0_chi2 cosTheta v0_ks_mass\".split(\" \") # Values to plot \n",
    "trueKs = df_test[\"trueKs\"].astype(bool) # Identify true/false for Ks \n",
    "\n",
    "for i, col in enumerate(plot_values):\n",
    "    ax[0][i].set_title(col)\n",
    "    ax[0][i].hist(df_test[col].loc[trueKs], bins = bins, color = \"green\")\n",
    "    ax[1][i].hist(df_test[col].loc[trueKs.apply(lambda x: not x)], bins = bins, color = \"red\")\n",
    "    \n",
    "ax[0][0].set_ylabel(\"TrueKs\")\n",
    "ax[1][0].set_ylabel(\"FalseKs\")\n",
    "\n",
    "fig.tight_layout()"
   ]
  },
  {
   "cell_type": "code",
   "execution_count": 88,
   "metadata": {
    "ExecuteTime": {
     "end_time": "2020-09-10T08:58:02.140632Z",
     "start_time": "2020-09-10T08:58:02.136607Z"
    }
   },
   "outputs": [
    {
     "name": "stdout",
     "output_type": "stream",
     "text": [
      "\n",
      "In test data, we have:\n",
      "signal to noise is 0.86, up from 0.10\n",
      "Amount of signal is 3955, down from 4625\n",
      "\n"
     ]
    }
   ],
   "source": [
    "test_data_string = f\"\"\"\n",
    "In test data, we have:\n",
    "signal to noise is {sig_noise_test:.2f}, up from {total_sig_noise_test:.2f}\n",
    "Amount of signal is {sig_test_after}, down from {total_test_sig}\n",
    "\"\"\"\n",
    "print(test_data_string)"
   ]
  },
  {
   "cell_type": "code",
   "execution_count": 89,
   "metadata": {
    "ExecuteTime": {
     "end_time": "2020-09-10T08:58:02.150570Z",
     "start_time": "2020-09-10T08:58:02.142592Z"
    }
   },
   "outputs": [],
   "source": [
    "def cutter(df):\n",
    "    label = np.ones(len(df))\n",
    "    label[np.logical_or(df['v0_rxy'] < rxy_low_min, df['v0_rxy'] > rxy_high_min)] = 0\n",
    "    label[df['v0_chi2'] > chi2_high_min] = 0\n",
    "    label[df['cosTheta'] < cos_Theta_low_min] = 0\n",
    "    label[np.logical_or(df['v0_ks_mass'] < mass_low_min, df['v0_ks_mass'] > mass_high_min)] = 0\n",
    "    return label"
   ]
  },
  {
   "cell_type": "code",
   "execution_count": 90,
   "metadata": {
    "ExecuteTime": {
     "end_time": "2020-09-10T08:58:02.157551Z",
     "start_time": "2020-09-10T08:58:02.152563Z"
    }
   },
   "outputs": [],
   "source": [
    "import dill, pickle"
   ]
  },
  {
   "cell_type": "code",
   "execution_count": 91,
   "metadata": {
    "ExecuteTime": {
     "end_time": "2020-09-10T08:58:02.181487Z",
     "start_time": "2020-09-10T08:58:02.160543Z"
    }
   },
   "outputs": [
    {
     "ename": "FileNotFoundError",
     "evalue": "[Errno 2] No such file or directory: 'model/cutter_90_significance.dat'",
     "output_type": "error",
     "traceback": [
      "\u001b[1;31m---------------------------------------------------------------------------\u001b[0m",
      "\u001b[1;31mFileNotFoundError\u001b[0m                         Traceback (most recent call last)",
      "\u001b[1;32m<ipython-input-91-e5df6b715f8e>\u001b[0m in \u001b[0;36m<module>\u001b[1;34m\u001b[0m\n\u001b[1;32m----> 1\u001b[1;33m \u001b[0mfile\u001b[0m \u001b[1;33m=\u001b[0m \u001b[0mopen\u001b[0m\u001b[1;33m(\u001b[0m\u001b[1;34mf\"model/cutter_{int(100 * minimum_sig_ration)}_significance.dat\"\u001b[0m\u001b[1;33m,\u001b[0m \u001b[1;34m'wb'\u001b[0m\u001b[1;33m)\u001b[0m\u001b[1;33m\u001b[0m\u001b[1;33m\u001b[0m\u001b[0m\n\u001b[0m\u001b[0;32m      2\u001b[0m \u001b[0mseriealized\u001b[0m \u001b[1;33m=\u001b[0m \u001b[0mdill\u001b[0m\u001b[1;33m.\u001b[0m\u001b[0mdumps\u001b[0m\u001b[1;33m(\u001b[0m\u001b[0mcutter\u001b[0m\u001b[1;33m,\u001b[0m \u001b[0mrecurse\u001b[0m \u001b[1;33m=\u001b[0m \u001b[1;32mTrue\u001b[0m\u001b[1;33m)\u001b[0m\u001b[1;33m\u001b[0m\u001b[1;33m\u001b[0m\u001b[0m\n\u001b[0;32m      3\u001b[0m \u001b[0mdill\u001b[0m\u001b[1;33m.\u001b[0m\u001b[0mdump\u001b[0m\u001b[1;33m(\u001b[0m\u001b[0mseriealized\u001b[0m\u001b[1;33m,\u001b[0m \u001b[0mfile\u001b[0m\u001b[1;33m,\u001b[0m \u001b[0mrecurse\u001b[0m \u001b[1;33m=\u001b[0m \u001b[1;32mTrue\u001b[0m\u001b[1;33m)\u001b[0m\u001b[1;33m\u001b[0m\u001b[1;33m\u001b[0m\u001b[0m\n\u001b[0;32m      4\u001b[0m \u001b[0mfile\u001b[0m\u001b[1;33m.\u001b[0m\u001b[0mclose\u001b[0m\u001b[1;33m(\u001b[0m\u001b[1;33m)\u001b[0m\u001b[1;33m\u001b[0m\u001b[1;33m\u001b[0m\u001b[0m\n",
      "\u001b[1;31mFileNotFoundError\u001b[0m: [Errno 2] No such file or directory: 'model/cutter_90_significance.dat'"
     ]
    }
   ],
   "source": [
    "file = open(f\"model/cutter_{int(100 * minimum_sig_ration)}_significance.dat\", 'wb')\n",
    "seriealized = dill.dumps(cutter, recurse = True)\n",
    "dill.dump(seriealized, file, recurse = True)\n",
    "file.close()\n"
   ]
  },
  {
   "cell_type": "code",
   "execution_count": null,
   "metadata": {},
   "outputs": [],
   "source": []
  }
 ],
 "metadata": {
  "hide_input": false,
  "kernelspec": {
   "display_name": "Python 3",
   "language": "python",
   "name": "python3"
  },
  "language_info": {
   "codemirror_mode": {
    "name": "ipython",
    "version": 3
   },
   "file_extension": ".py",
   "mimetype": "text/x-python",
   "name": "python",
   "nbconvert_exporter": "python",
   "pygments_lexer": "ipython3",
   "version": "3.7.4"
  },
  "latex_envs": {
   "LaTeX_envs_menu_present": true,
   "autoclose": false,
   "autocomplete": true,
   "bibliofile": "biblio.bib",
   "cite_by": "apalike",
   "current_citInitial": 1,
   "eqLabelWithNumbers": true,
   "eqNumInitial": 1,
   "hotkeys": {
    "equation": "Ctrl-E",
    "itemize": "Ctrl-I"
   },
   "labels_anchors": false,
   "latex_user_defs": false,
   "report_style_numbering": false,
   "user_envs_cfg": false
  },
  "toc": {
   "base_numbering": 1,
   "nav_menu": {},
   "number_sections": true,
   "sideBar": true,
   "skip_h1_title": true,
   "title_cell": "Table of Contents",
   "title_sidebar": "Contents",
   "toc_cell": false,
   "toc_position": {},
   "toc_section_display": true,
   "toc_window_display": false
  }
 },
 "nbformat": 4,
 "nbformat_minor": 4
}
