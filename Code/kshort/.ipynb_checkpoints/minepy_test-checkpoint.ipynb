{
 "cells": [
  {
   "cell_type": "code",
   "execution_count": 39,
   "metadata": {
    "ExecuteTime": {
     "end_time": "2020-09-11T15:16:48.752734Z",
     "start_time": "2020-09-11T15:16:48.748707Z"
    }
   },
   "outputs": [],
   "source": [
    "import numpy as np\n",
    "import matplotlib.pyplot as plt\n",
    "import minepy\n",
    "from tqdm import tqdm"
   ]
  },
  {
   "cell_type": "code",
   "execution_count": 44,
   "metadata": {
    "ExecuteTime": {
     "end_time": "2020-09-11T15:18:10.657148Z",
     "start_time": "2020-09-11T15:17:23.072505Z"
    }
   },
   "outputs": [
    {
     "name": "stderr",
     "output_type": "stream",
     "text": [
      "100%|███████████████████████████████████████████████████████████████| 100000000/100000000 [00:47<00:00, 2101916.17it/s]\n"
     ]
    }
   ],
   "source": [
    "l=int(1e8)\n",
    "binomials=np.zeros(l)\n",
    "for n in tqdm(range(l)):\n",
    "    binomials[n]=n*(n-1)/2"
   ]
  },
  {
   "cell_type": "code",
   "execution_count": 24,
   "metadata": {
    "ExecuteTime": {
     "end_time": "2020-09-11T15:11:02.592726Z",
     "start_time": "2020-09-11T15:11:02.586733Z"
    }
   },
   "outputs": [],
   "source": [
    "size=14\n",
    "covlist=np.random.uniform(0,1,size*2)"
   ]
  },
  {
   "cell_type": "code",
   "execution_count": 31,
   "metadata": {
    "ExecuteTime": {
     "end_time": "2020-09-11T15:12:07.563524Z",
     "start_time": "2020-09-11T15:12:07.557537Z"
    }
   },
   "outputs": [
    {
     "data": {
      "text/plain": [
       "array([[1.        , 0.3436172 , 0.40354302, 0.77541642, 0.75054575,\n",
       "        0.29097535, 0.75106186, 0.43298065],\n",
       "       [0.3436172 , 1.        , 0.13353052, 0.07835037, 0.13472797,\n",
       "        0.14990138, 0.81272847, 0.05395715],\n",
       "       [0.40354302, 0.13353052, 1.        , 0.25044791, 0.80775526,\n",
       "        0.31080233, 0.09287843, 0.48145219],\n",
       "       [0.77541642, 0.07835037, 0.25044791, 1.        , 0.40543238,\n",
       "        0.80567024, 0.88667813, 0.08681572],\n",
       "       [0.75054575, 0.13472797, 0.80775526, 0.40543238, 1.        ,\n",
       "        0.24349486, 0.49967665, 0.012142  ],\n",
       "       [0.29097535, 0.14990138, 0.31080233, 0.80567024, 0.24349486,\n",
       "        1.        , 0.89620214, 0.38307855],\n",
       "       [0.75106186, 0.81272847, 0.09287843, 0.88667813, 0.49967665,\n",
       "        0.89620214, 1.        , 0.90014214],\n",
       "       [0.43298065, 0.05395715, 0.48145219, 0.08681572, 0.012142  ,\n",
       "        0.38307855, 0.90014214, 1.        ]])"
      ]
     },
     "execution_count": 31,
     "metadata": {},
     "output_type": "execute_result"
    }
   ],
   "source": [
    "from scipy.spatial.distance import squareform\n",
    "cov = squareform(covlist)\n",
    "cov+np.diag(np.ones(len(cov[0])))"
   ]
  },
  {
   "cell_type": "code",
   "execution_count": 33,
   "metadata": {
    "ExecuteTime": {
     "end_time": "2020-09-11T15:14:46.103401Z",
     "start_time": "2020-09-11T15:14:46.096422Z"
    }
   },
   "outputs": [
    {
     "name": "stderr",
     "output_type": "stream",
     "text": [
      "C:\\Users\\chris\\Anaconda3\\lib\\site-packages\\ipykernel_launcher.py:2: RuntimeWarning: covariance is not positive-semidefinite.\n",
      "  \n"
     ]
    }
   ],
   "source": [
    "mu=np.random.uniform(0,100, len(cov[0]))\n",
    "rand=np.random.multivariate_normal(mu, cov, size=100)"
   ]
  },
  {
   "cell_type": "code",
   "execution_count": 36,
   "metadata": {
    "ExecuteTime": {
     "end_time": "2020-09-11T15:15:30.297402Z",
     "start_time": "2020-09-11T15:15:30.285436Z"
    }
   },
   "outputs": [
    {
     "ename": "FileNotFoundError",
     "evalue": "[Errno 2] No such file or directory: 'resources/mic_matrix.dat'",
     "output_type": "error",
     "traceback": [
      "\u001b[1;31m---------------------------------------------------------------------------\u001b[0m",
      "\u001b[1;31mFileNotFoundError\u001b[0m                         Traceback (most recent call last)",
      "\u001b[1;32m<ipython-input-36-39d997223a15>\u001b[0m in \u001b[0;36m<module>\u001b[1;34m\u001b[0m\n\u001b[0;32m      7\u001b[0m     \u001b[0mpickle\u001b[0m\u001b[1;33m.\u001b[0m\u001b[0mdump\u001b[0m\u001b[1;33m(\u001b[0m\u001b[1;33m(\u001b[0m\u001b[0mcol\u001b[0m\u001b[1;33m,\u001b[0m \u001b[0mresult\u001b[0m\u001b[1;33m)\u001b[0m\u001b[1;33m,\u001b[0m \u001b[0mopen\u001b[0m\u001b[1;33m(\u001b[0m\u001b[1;34m\"resources/mic_matrix.dat\"\u001b[0m\u001b[1;33m,\u001b[0m \u001b[1;34m'wb'\u001b[0m\u001b[1;33m)\u001b[0m\u001b[1;33m)\u001b[0m\u001b[1;33m\u001b[0m\u001b[1;33m\u001b[0m\u001b[0m\n\u001b[0;32m      8\u001b[0m \u001b[1;32melse\u001b[0m\u001b[1;33m:\u001b[0m\u001b[1;33m\u001b[0m\u001b[1;33m\u001b[0m\u001b[0m\n\u001b[1;32m----> 9\u001b[1;33m     \u001b[0mcol\u001b[0m\u001b[1;33m,\u001b[0m \u001b[0mresult\u001b[0m \u001b[1;33m=\u001b[0m \u001b[0mpickle\u001b[0m\u001b[1;33m.\u001b[0m\u001b[0mload\u001b[0m\u001b[1;33m(\u001b[0m\u001b[0mopen\u001b[0m\u001b[1;33m(\u001b[0m\u001b[1;34m\"resources/mic_matrix.dat\"\u001b[0m\u001b[1;33m,\u001b[0m \u001b[1;34m'rb'\u001b[0m\u001b[1;33m)\u001b[0m\u001b[1;33m)\u001b[0m\u001b[1;33m\u001b[0m\u001b[1;33m\u001b[0m\u001b[0m\n\u001b[0m",
      "\u001b[1;31mFileNotFoundError\u001b[0m: [Errno 2] No such file or directory: 'resources/mic_matrix.dat'"
     ]
    }
   ],
   "source": [
    "import pickle\n",
    "update_mic_matrix = False\n",
    "\n",
    "if update_mic_matrix:\n",
    "    import minepy\n",
    "    result = minepy.pstats(df.T)\n",
    "    pickle.dump((col, result), open(\"resources/mic_matrix.dat\", 'wb'))\n",
    "else:\n",
    "    col, result = pickle.load(open(\"resources/mic_matrix.dat\", 'rb'))"
   ]
  },
  {
   "cell_type": "code",
   "execution_count": null,
   "metadata": {},
   "outputs": [],
   "source": []
  }
 ],
 "metadata": {
  "hide_input": false,
  "kernelspec": {
   "display_name": "Python 3",
   "language": "python",
   "name": "python3"
  },
  "language_info": {
   "codemirror_mode": {
    "name": "ipython",
    "version": 3
   },
   "file_extension": ".py",
   "mimetype": "text/x-python",
   "name": "python",
   "nbconvert_exporter": "python",
   "pygments_lexer": "ipython3",
   "version": "3.7.4"
  }
 },
 "nbformat": 4,
 "nbformat_minor": 4
}
