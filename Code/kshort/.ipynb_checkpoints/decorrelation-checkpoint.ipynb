{
 "cells": [
  {
   "cell_type": "code",
   "execution_count": 5,
   "metadata": {
    "ExecuteTime": {
     "end_time": "2020-09-13T14:38:01.308053Z",
     "start_time": "2020-09-13T14:38:01.297084Z"
    }
   },
   "outputs": [
    {
     "ename": "AttributeError",
     "evalue": "module 'pandas' has no attribute 'compat'",
     "output_type": "error",
     "traceback": [
      "\u001b[1;31m---------------------------------------------------------------------------\u001b[0m",
      "\u001b[1;31mAttributeError\u001b[0m                            Traceback (most recent call last)",
      "\u001b[1;32m<ipython-input-5-4c87429cc419>\u001b[0m in \u001b[0;36m<module>\u001b[1;34m\u001b[0m\n\u001b[1;32m----> 1\u001b[1;33m \u001b[1;32mimport\u001b[0m \u001b[0mpandas\u001b[0m \u001b[1;32mas\u001b[0m \u001b[0mpd\u001b[0m\u001b[1;33m\u001b[0m\u001b[1;33m\u001b[0m\u001b[0m\n\u001b[0m\u001b[0;32m      2\u001b[0m \u001b[1;32mimport\u001b[0m \u001b[0muproot\u001b[0m\u001b[1;33m,\u001b[0m \u001b[0mdill\u001b[0m\u001b[1;33m,\u001b[0m \u001b[0mos\u001b[0m\u001b[1;33m\u001b[0m\u001b[1;33m\u001b[0m\u001b[0m\n\u001b[0;32m      3\u001b[0m \u001b[1;32mimport\u001b[0m \u001b[0mnumpy\u001b[0m \u001b[1;32mas\u001b[0m \u001b[0mnp\u001b[0m\u001b[1;33m\u001b[0m\u001b[1;33m\u001b[0m\u001b[0m\n\u001b[0;32m      4\u001b[0m \u001b[1;32mimport\u001b[0m \u001b[0mmatplotlib\u001b[0m\u001b[1;33m.\u001b[0m\u001b[0mpyplot\u001b[0m \u001b[1;32mas\u001b[0m \u001b[0mplt\u001b[0m\u001b[1;33m\u001b[0m\u001b[1;33m\u001b[0m\u001b[0m\n",
      "\u001b[1;32m~\\Anaconda3\\lib\\site-packages\\pandas\\__init__.py\u001b[0m in \u001b[0;36m<module>\u001b[1;34m\u001b[0m\n\u001b[0;32m    188\u001b[0m \u001b[1;31m# GH 27101\u001b[0m\u001b[1;33m\u001b[0m\u001b[1;33m\u001b[0m\u001b[1;33m\u001b[0m\u001b[0m\n\u001b[0;32m    189\u001b[0m \u001b[1;31m# TODO: remove Panel compat in 1.0\u001b[0m\u001b[1;33m\u001b[0m\u001b[1;33m\u001b[0m\u001b[1;33m\u001b[0m\u001b[0m\n\u001b[1;32m--> 190\u001b[1;33m \u001b[1;32mif\u001b[0m \u001b[0mpandas\u001b[0m\u001b[1;33m.\u001b[0m\u001b[0mcompat\u001b[0m\u001b[1;33m.\u001b[0m\u001b[0mPY37\u001b[0m\u001b[1;33m:\u001b[0m\u001b[1;33m\u001b[0m\u001b[1;33m\u001b[0m\u001b[0m\n\u001b[0m\u001b[0;32m    191\u001b[0m \u001b[1;33m\u001b[0m\u001b[0m\n\u001b[0;32m    192\u001b[0m     \u001b[1;32mdef\u001b[0m \u001b[0m__getattr__\u001b[0m\u001b[1;33m(\u001b[0m\u001b[0mname\u001b[0m\u001b[1;33m)\u001b[0m\u001b[1;33m:\u001b[0m\u001b[1;33m\u001b[0m\u001b[1;33m\u001b[0m\u001b[0m\n",
      "\u001b[1;31mAttributeError\u001b[0m: module 'pandas' has no attribute 'compat'"
     ]
    }
   ],
   "source": [
    "import pandas as pd\n",
    "import uproot, dill, os\n",
    "import numpy as np\n",
    "import matplotlib.pyplot as plt"
   ]
  },
  {
   "cell_type": "code",
   "execution_count": null,
   "metadata": {
    "ExecuteTime": {
     "end_time": "2020-09-13T14:37:56.799079Z",
     "start_time": "2020-09-13T14:37:56.038Z"
    }
   },
   "outputs": [],
   "source": [
    "train=1e4\n",
    "test=1e4\n",
    "path = \"../../data/data15_13TeV.00267358.physics_MinBias.30062015_v0_per_0.root\"\n",
    "file=uproot.open(path)\n",
    "T = file['tree']"
   ]
  },
  {
   "cell_type": "code",
   "execution_count": null,
   "metadata": {
    "ExecuteTime": {
     "end_time": "2020-09-13T14:37:56.800076Z",
     "start_time": "2020-09-13T14:37:56.220Z"
    }
   },
   "outputs": [],
   "source": [
    "allstring=''\n",
    "keys=[]\n",
    "for key in T.keys():\n",
    "    if 'mass' not in str(key)[2:-1] and 'massErr' not in str(key)[2:-1]:\n",
    "        keys.append(str(key)[2:-1])\n",
    "        allstring+=' '+str(key)[2:-1]\n",
    "allstring=allstring[1:]\n",
    "keys=keys[1:51]\n",
    "no_true=[]\n",
    "no_true_split=''\n",
    "for key in keys:\n",
    "    if 'true' not in key:\n",
    "        no_true.append(key)\n",
    "        no_true_split+=' '+key\n",
    "no_true_split=no_true_split[1:]"
   ]
  },
  {
   "cell_type": "code",
   "execution_count": null,
   "metadata": {
    "ExecuteTime": {
     "end_time": "2020-09-13T14:37:56.801074Z",
     "start_time": "2020-09-13T14:37:56.384Z"
    }
   },
   "outputs": [],
   "source": [
    "features_johann=['cosTheta',\n",
    " 'v0_ks_mass',\n",
    " 'pT',\n",
    " 'v0_rxyErr',\n",
    " 'v0_rxy',\n",
    " 'v0_chi2',\n",
    " 'eventCounter',\n",
    " 'ntrk_pv0',\n",
    " 'a0',\n",
    " 'a0xy',\n",
    " 'v0_ks_massErr',\n",
    " 'epsilon1',\n",
    " 'calpha',\n",
    " 'v0_ptErr',\n",
    " 'pv0_y']"
   ]
  },
  {
   "cell_type": "code",
   "execution_count": null,
   "metadata": {
    "ExecuteTime": {
     "end_time": "2020-09-13T14:37:56.802070Z",
     "start_time": "2020-09-13T14:37:56.539Z"
    }
   },
   "outputs": [],
   "source": [
    "df = T.pandas.df(\"v0_rxy v0_chi2 cosTheta v0_ks_mass\".split(\" \"), entrystop = train +test)\n",
    "df_test=df.sample(frac=0.5)\n",
    "df_train=df.loc[~df.index.isin(df_test.index)]\n",
    "# df_test.describe(), df_train.describe()"
   ]
  },
  {
   "cell_type": "code",
   "execution_count": null,
   "metadata": {
    "ExecuteTime": {
     "end_time": "2020-09-13T14:37:56.803069Z",
     "start_time": "2020-09-13T14:37:56.730Z"
    }
   },
   "outputs": [],
   "source": [
    "#all fifty\n",
    "df_all = T.pandas.df(\"npv ntrk_pv0 pv0_x pv0_y pv0_z a0xy a0 a0z cosTheta v0_chi2 v0_x v0_y v0_z v0_rxy v0_rxyErr v0_px v0_py v0_pz v0_pt v0_p v0_ptErr v0_px1 v0_py1 v0_pz1 v0_pt1 v0_p1 v0_px2 v0_py2 v0_pz2 v0_pt2 v0_p2 v0_phi1 v0_theta1 v0_qOverP1 v0_phi2 v0_theta2 v0_qOverP2 alpha calpha epsilon1 epsilon2 Alpha pL1 pL2 pT thetastar rapidity_ks rapidity_la rapidity_lb pseudorapidity\".split(\" \"), entrystop=test+train)\n",
    "df_all.head()"
   ]
  },
  {
   "cell_type": "code",
   "execution_count": 3,
   "metadata": {
    "ExecuteTime": {
     "end_time": "2020-09-13T14:37:56.960319Z",
     "start_time": "2020-09-13T14:37:56.950346Z"
    }
   },
   "outputs": [
    {
     "ename": "NameError",
     "evalue": "name 'dill' is not defined",
     "output_type": "error",
     "traceback": [
      "\u001b[1;31m---------------------------------------------------------------------------\u001b[0m",
      "\u001b[1;31mNameError\u001b[0m                                 Traceback (most recent call last)",
      "\u001b[1;32m<ipython-input-3-eaf43607947f>\u001b[0m in \u001b[0;36m<module>\u001b[1;34m\u001b[0m\n\u001b[0;32m      2\u001b[0m \u001b[0mmodel_path\u001b[0m \u001b[1;33m=\u001b[0m \u001b[1;34m\"models/MC_trained_xgboost.dat\"\u001b[0m\u001b[1;33m\u001b[0m\u001b[1;33m\u001b[0m\u001b[0m\n\u001b[0;32m      3\u001b[0m \u001b[1;33m\u001b[0m\u001b[0m\n\u001b[1;32m----> 4\u001b[1;33m \u001b[0mfunc_seri\u001b[0m \u001b[1;33m=\u001b[0m \u001b[0mdill\u001b[0m\u001b[1;33m.\u001b[0m\u001b[0mload\u001b[0m\u001b[1;33m(\u001b[0m\u001b[0mopen\u001b[0m\u001b[1;33m(\u001b[0m\u001b[0mmodel_path\u001b[0m\u001b[1;33m,\u001b[0m \u001b[1;34m'rb'\u001b[0m\u001b[1;33m)\u001b[0m\u001b[1;33m)\u001b[0m\u001b[1;33m\u001b[0m\u001b[1;33m\u001b[0m\u001b[0m\n\u001b[0m\u001b[0;32m      5\u001b[0m \u001b[0mmodel\u001b[0m \u001b[1;33m=\u001b[0m \u001b[0mdill\u001b[0m\u001b[1;33m.\u001b[0m\u001b[0mloads\u001b[0m\u001b[1;33m(\u001b[0m\u001b[0mfunc_seri\u001b[0m\u001b[1;33m)\u001b[0m\u001b[1;33m\u001b[0m\u001b[1;33m\u001b[0m\u001b[0m\n\u001b[0;32m      6\u001b[0m \u001b[1;33m\u001b[0m\u001b[0m\n",
      "\u001b[1;31mNameError\u001b[0m: name 'dill' is not defined"
     ]
    }
   ],
   "source": [
    "# define probability variable\n",
    "model_path = \"models/MC_trained_xgboost.dat\"\n",
    "\n",
    "func_seri = dill.load(open(model_path, 'rb'))\n",
    "model = dill.loads(func_seri)\n",
    "\n",
    "model_path = \"models/MC_trained_xgboost_full.dat\"\n",
    "\n",
    "func_seri = dill.load(open(model_path, 'rb'))\n",
    "predict_xgboost = dill.loads(func_seri)"
   ]
  },
  {
   "cell_type": "code",
   "execution_count": 4,
   "metadata": {
    "ExecuteTime": {
     "end_time": "2020-09-13T14:37:57.189769Z",
     "start_time": "2020-09-13T14:37:57.180794Z"
    }
   },
   "outputs": [
    {
     "ename": "NameError",
     "evalue": "name 'predict_xgboost' is not defined",
     "output_type": "error",
     "traceback": [
      "\u001b[1;31m---------------------------------------------------------------------------\u001b[0m",
      "\u001b[1;31mNameError\u001b[0m                                 Traceback (most recent call last)",
      "\u001b[1;32m<ipython-input-4-4eb429ded7a7>\u001b[0m in \u001b[0;36m<module>\u001b[1;34m\u001b[0m\n\u001b[1;32m----> 1\u001b[1;33m \u001b[0mpredict\u001b[0m\u001b[1;33m=\u001b[0m\u001b[0mpredict_xgboost\u001b[0m\u001b[1;33m(\u001b[0m\u001b[0mdf_all\u001b[0m\u001b[1;33m)\u001b[0m\u001b[1;33m\u001b[0m\u001b[1;33m\u001b[0m\u001b[0m\n\u001b[0m\u001b[0;32m      2\u001b[0m \u001b[0mplt\u001b[0m\u001b[1;33m.\u001b[0m\u001b[0mhist\u001b[0m\u001b[1;33m(\u001b[0m\u001b[0mpredict\u001b[0m\u001b[1;33m)\u001b[0m\u001b[1;33m\u001b[0m\u001b[1;33m\u001b[0m\u001b[0m\n",
      "\u001b[1;31mNameError\u001b[0m: name 'predict_xgboost' is not defined"
     ]
    }
   ],
   "source": [
    "predict=predict_xgboost(df_all)\n",
    "plt.hist(predict)"
   ]
  },
  {
   "cell_type": "code",
   "execution_count": null,
   "metadata": {
    "ExecuteTime": {
     "end_time": "2020-09-13T14:37:51.951186Z",
     "start_time": "2020-09-13T14:37:51.420Z"
    }
   },
   "outputs": [],
   "source": [
    "df_all['Predicted']=predict"
   ]
  },
  {
   "cell_type": "code",
   "execution_count": null,
   "metadata": {
    "ExecuteTime": {
     "end_time": "2020-09-13T14:37:51.952183Z",
     "start_time": "2020-09-13T14:37:51.422Z"
    }
   },
   "outputs": [],
   "source": [
    "%matplotlib inline\n",
    "from tqdm import tqdm\n",
    "plt.rcParams.update({'font.size': 8})\n",
    "fig, ax = plt.subplots(figsize=(25,25))\n",
    "corr=df_all.corr(method='pearson')\n",
    "im = ax.imshow(corr)\n",
    "\n",
    "# We want to show all ticks...\n",
    "ax.set_xticks(np.arange(len(df_all.columns)))\n",
    "ax.set_yticks(np.arange(len(df_all.columns)))\n",
    "# ... and label them with the respective list entries\n",
    "ax.set_xticklabels(df_all.columns)\n",
    "ax.set_yticklabels(df_all.columns)\n",
    "\n",
    "# Rotate the tick labels and set their alignment.\n",
    "plt.setp(ax.get_xticklabels(), rotation=60, ha=\"right\",\n",
    "         rotation_mode=\"anchor\")\n",
    "\n",
    "# Loop over data dimensions and create text annotations.\n",
    "for i in range(len(df_all.columns)):\n",
    "    for j in range(len(df_all.columns)):\n",
    "        text = ax.text(j, i, np.round(corr[df_all.columns[i]][df_all.columns[j]], 2),\n",
    "                       ha=\"center\", va=\"center\", color=\"w\")\n",
    "\n",
    "ax.set_title(\"Pearson Correlation matrix (full dataset)\")\n",
    "# fig.tight_layout()\n",
    "# plt.savefig('figs/Pearson Correlation.png')\n",
    "plt.show()"
   ]
  },
  {
   "cell_type": "code",
   "execution_count": null,
   "metadata": {
    "ExecuteTime": {
     "end_time": "2020-09-13T14:37:51.954179Z",
     "start_time": "2020-09-13T14:37:51.423Z"
    }
   },
   "outputs": [],
   "source": [
    "import minepy\n",
    "from scipy.spatial.distance import squareform"
   ]
  },
  {
   "cell_type": "code",
   "execution_count": null,
   "metadata": {
    "ExecuteTime": {
     "end_time": "2020-09-13T14:37:51.955175Z",
     "start_time": "2020-09-13T14:37:51.426Z"
    }
   },
   "outputs": [],
   "source": [
    "result=minepy.pstats(df_all)"
   ]
  },
  {
   "cell_type": "code",
   "execution_count": null,
   "metadata": {
    "ExecuteTime": {
     "end_time": "2020-09-13T14:37:51.956172Z",
     "start_time": "2020-09-13T14:37:51.427Z"
    }
   },
   "outputs": [],
   "source": [
    "mat = squareform(result[0])\n",
    "fig, ax = plt.subplots(figsize = (18, 16))\n",
    "show = ax.imshow(mat) \n",
    "cols = df_all.columns\n",
    "\n",
    "for i in range(len(cols)):\n",
    "    for j in range(len(cols)):\n",
    "        text = ax.text(j, i, np.round(mat[i, j], 2),\n",
    "                       ha=\"center\", va=\"center\", color=\"w\")"
   ]
  },
  {
   "cell_type": "code",
   "execution_count": null,
   "metadata": {
    "ExecuteTime": {
     "end_time": "2020-09-13T14:37:51.958167Z",
     "start_time": "2020-09-13T14:37:51.429Z"
    }
   },
   "outputs": [],
   "source": [
    "def normalize_dataframe(dataframe, mc=False, truecol='trueKs'):\n",
    "    \"\"\" Give truecol either as string or not, doesn't matter. Returns scaled dataframe w/o truelabel, truelabel series and \n",
    "    mean and standard deviation for each variable as a dictionary\"\"\"\n",
    "    mustd={}\n",
    "    if mc==True:\n",
    "        label=dataframe[str(truecol)]\n",
    "        dataframe=dataframe.drop(str(truecol), axis=1)\n",
    "    df_all_norm = pd.DataFrame(None)\n",
    "    for col in dataframe.columns[:57]:\n",
    "        if dataframe[col].std() != 0:\n",
    "            mustd[col]=(dataframe[col].mean(), dataframe[col].std())\n",
    "            df_all_norm[col] = (dataframe[col] - dataframe[col].mean()) / dataframe[col].std()\n",
    "    if mc==True:\n",
    "        return df_all_norm, label, mustd\n",
    "    else:\n",
    "        return df_all_norm, mustd"
   ]
  },
  {
   "cell_type": "code",
   "execution_count": null,
   "metadata": {
    "ExecuteTime": {
     "end_time": "2020-09-13T14:37:51.959165Z",
     "start_time": "2020-09-13T14:37:51.432Z"
    }
   },
   "outputs": [],
   "source": [
    "df_all_norm, mu_std=normalize_dataframe(df_all)"
   ]
  },
  {
   "cell_type": "code",
   "execution_count": null,
   "metadata": {},
   "outputs": [],
   "source": []
  }
 ],
 "metadata": {
  "hide_input": false,
  "kernelspec": {
   "display_name": "Python 3",
   "language": "python",
   "name": "python3"
  },
  "language_info": {
   "codemirror_mode": {
    "name": "ipython",
    "version": 3
   },
   "file_extension": ".py",
   "mimetype": "text/x-python",
   "name": "python",
   "nbconvert_exporter": "python",
   "pygments_lexer": "ipython3",
   "version": "3.7.4"
  }
 },
 "nbformat": 4,
 "nbformat_minor": 4
}
