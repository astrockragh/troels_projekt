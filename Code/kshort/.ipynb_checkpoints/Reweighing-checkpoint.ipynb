{
 "cells": [
  {
   "cell_type": "code",
   "execution_count": 6,
   "metadata": {
    "ExecuteTime": {
     "end_time": "2020-10-23T19:53:22.689652Z",
     "start_time": "2020-10-23T19:53:22.685663Z"
    }
   },
   "outputs": [],
   "source": [
    "import os, sys, uproot\n",
    "import numpy as np\n",
    "import pandas as pd\n",
    "import matplotlib.pyplot as plt\n",
    "import HomeMade as hm\n",
    "import seaborn as sb\n",
    "from iminuit import Minuit\n",
    "from lightgbm import LGBMClassifier\n",
    "from xgboost import XGBClassifier\n",
    "import shap\n",
    "import dill\n",
    "from AppStatFunctions import Chi2Regression,UnbinnedLH, BinnedLH, add_text_to_ax, nice_string_output\n",
    "from sklearn.preprocessing import RobustScaler\n",
    "from hep_ml.reweight import GBReweighter"
   ]
  },
  {
   "cell_type": "code",
   "execution_count": 7,
   "metadata": {
    "ExecuteTime": {
     "end_time": "2020-10-23T19:53:53.260552Z",
     "start_time": "2020-10-23T19:53:53.255567Z"
    }
   },
   "outputs": [],
   "source": [
    "Nmax=2.4e6\n",
    "uncorrelated=['v0_chi2', 'v0_px1', 'v0_phi1', 'v0_py1', 'v0_py', 'v0_py2', 'v0_phi2', 'v0_px2', 'v0_px', 'cosTheta', 'a0xy', 'a0', 'v0_y', 'v0_x', 'v0_rxyErr', 'v0_z', 'pv0_z', 'pv0_y', 'ntrk_pv0', 'pv0_x']"
   ]
  },
  {
   "cell_type": "code",
   "execution_count": 11,
   "metadata": {
    "ExecuteTime": {
     "end_time": "2020-10-23T19:55:10.975196Z",
     "start_time": "2020-10-23T19:55:10.615904Z"
    }
   },
   "outputs": [],
   "source": [
    "N = 1e5\n",
    "if N>Nmax:\n",
    "    N=Nmax\n",
    "    print('Maxed out')\n",
    "\n",
    "all_features = np.hstack((['v0_ks_mass'], uncorrelated))\n",
    "\n",
    "path = \"../../data/data15_13TeV.00267358.physics_MinBias.30062015_v0_per_0.root\"\n",
    "file = uproot.open(path)\n",
    "data = file['tree'].pandas.df(all_features, entrystop = N)\n",
    "\n",
    "path = \"../../data/mc15_13TeV.361203.Pythia8_A2_MSTW2008LO_ND_minbias.30062015_v0_per_0.root\"\n",
    "file = uproot.open(path)\n",
    "mc = file['tree'].pandas.df(np.hstack((all_features ,['trueKs'])), entrystop = N)\n",
    "\n",
    "data = data.loc[(data.v0_ks_mass > 400) & (data.v0_ks_mass < 600)]\n",
    "train_data = data.sample(frac=0.7)\n",
    "test_data = data[~data.index.isin(train_data.index)]\n",
    "\n",
    "mc = mc.loc[(mc.v0_ks_mass > 400) & (mc.v0_ks_mass < 600)]\n",
    "train_mc = mc.sample(frac=0.7)\n",
    "test_mc = mc[~mc.index.isin(train_mc.index)]"
   ]
  },
  {
   "cell_type": "code",
   "execution_count": 12,
   "metadata": {
    "ExecuteTime": {
     "end_time": "2020-10-23T19:57:06.936269Z",
     "start_time": "2020-10-23T19:57:06.929288Z"
    }
   },
   "outputs": [],
   "source": [
    "def draw_distributions(original, target, new_original_weights):\n",
    "    s=[]\n",
    "    plt.figure(figsize=[20, 20])\n",
    "    for id, column in enumerate(original.columns, 1):\n",
    "        print(column)\n",
    "        xlim = numpy.percentile(numpy.hstack([target[column]]), [0.01, 99.99])\n",
    "        plt.subplot(5, 4, id)\n",
    "        plt.hist(original[column], weights=new_original_weights, range=xlim, **hist_settings)\n",
    "        plt.hist(target[column], range=xlim, **hist_settings)\n",
    "        plt.title(column)\n",
    "        print('KS over ', column, ' = ', ks_2samp_weighted(original[column], target[column], \n",
    "                                         weights1=new_original_weights, weights2=numpy.ones(len(target), dtype=float)))\n",
    "        s.append(ks_2samp_weighted(original[column], target[column], \n",
    "                                         weights1=new_original_weights, weights2=numpy.ones(len(target), dtype=float)))\n",
    "    return np.sum(s)/len(s), s"
   ]
  },
  {
   "cell_type": "code",
   "execution_count": 43,
   "metadata": {
    "ExecuteTime": {
     "end_time": "2020-10-23T20:24:22.755949Z",
     "start_time": "2020-10-23T20:24:22.751020Z"
    }
   },
   "outputs": [],
   "source": [
    "def compare_distributions(original, target, new_original_weights):\n",
    "    s=[]\n",
    "    for id, column in enumerate(original.columns, 1):\n",
    "        s.append(ks_2samp_weighted(original[column], target[column], \n",
    "                                         weights1=new_original_weights, weights2=numpy.ones(len(target), dtype=float)))\n",
    "    return np.sum(s)/len(s), s"
   ]
  },
  {
   "cell_type": "code",
   "execution_count": 45,
   "metadata": {
    "ExecuteTime": {
     "end_time": "2020-10-23T20:24:35.269865Z",
     "start_time": "2020-10-23T20:24:35.265877Z"
    }
   },
   "outputs": [],
   "source": [
    "mcweights_train = np.ones(len(mc_train))\n",
    "mcweights_test = np.ones(len(mc_test))"
   ]
  },
  {
   "cell_type": "code",
   "execution_count": 41,
   "metadata": {
    "ExecuteTime": {
     "end_time": "2020-10-23T20:23:25.923553Z",
     "start_time": "2020-10-23T20:23:25.916535Z"
    }
   },
   "outputs": [],
   "source": [
    "def scale_split(mcs, datas, split, paramlist, no_transform):\n",
    "    mc1, data1=mcs[paramlist], datas[paramlist]\n",
    "    testlen=int(len(mc)*(1-split))\n",
    "    mct, datat=RobustScaler().fit(mc1), RobustScaler().fit(mc1)\n",
    "    mc1, data1=mct.transform(mc1), datat.transform(data1)\n",
    "    mc1, data1=pd.DataFrame(mc1, columns=paramlist), pd.DataFrame(data1, columns=paramlist)\n",
    "    for no in no_transform:\n",
    "        mc1[no]=mcs[no].to_numpy()\n",
    "        data1[no]=datas[no].to_numpy()\n",
    "    return mc1[:testlen], mc1[:testlen], data1[:testlen], data1[:testlen]"
   ]
  },
  {
   "cell_type": "code",
   "execution_count": 42,
   "metadata": {
    "ExecuteTime": {
     "end_time": "2020-10-23T20:23:26.852761Z",
     "start_time": "2020-10-23T20:23:26.728833Z"
    }
   },
   "outputs": [],
   "source": [
    "mc_test, mc_train, data_test, data_train=scale_split(mc, data, 0.7, uncorrelated, ['v0_chi2', 'cosTheta'])"
   ]
  },
  {
   "cell_type": "code",
   "execution_count": 46,
   "metadata": {
    "ExecuteTime": {
     "end_time": "2020-10-23T20:25:10.912741Z",
     "start_time": "2020-10-23T20:25:10.897722Z"
    }
   },
   "outputs": [
    {
     "ename": "NameError",
     "evalue": "name 'features' is not defined",
     "output_type": "error",
     "traceback": [
      "\u001b[1;31m---------------------------------------------------------------------------\u001b[0m",
      "\u001b[1;31mNameError\u001b[0m                                 Traceback (most recent call last)",
      "\u001b[1;32m<ipython-input-46-0f7e9ffff4fe>\u001b[0m in \u001b[0;36m<module>\u001b[1;34m\u001b[0m\n\u001b[0;32m      1\u001b[0m \u001b[0mreweighter\u001b[0m \u001b[1;33m=\u001b[0m \u001b[0mGBReweighter\u001b[0m\u001b[1;33m(\u001b[0m\u001b[0mn_estimators\u001b[0m\u001b[1;33m=\u001b[0m\u001b[1;36m50\u001b[0m\u001b[1;33m,\u001b[0m \u001b[0mlearning_rate\u001b[0m\u001b[1;33m=\u001b[0m\u001b[1;36m0.1\u001b[0m\u001b[1;33m,\u001b[0m \u001b[0mmax_depth\u001b[0m\u001b[1;33m=\u001b[0m\u001b[1;36m3\u001b[0m\u001b[1;33m,\u001b[0m \u001b[0mmin_samples_leaf\u001b[0m\u001b[1;33m=\u001b[0m\u001b[1;36m1000\u001b[0m\u001b[1;33m)\u001b[0m\u001b[1;33m\u001b[0m\u001b[1;33m\u001b[0m\u001b[0m\n\u001b[1;32m----> 2\u001b[1;33m \u001b[0mreweighter\u001b[0m\u001b[1;33m.\u001b[0m\u001b[0mfit\u001b[0m\u001b[1;33m(\u001b[0m\u001b[0mmc_train\u001b[0m\u001b[1;33m[\u001b[0m\u001b[0mfeatures\u001b[0m\u001b[1;33m]\u001b[0m\u001b[1;33m,\u001b[0m \u001b[0mdata_train\u001b[0m\u001b[1;33m[\u001b[0m\u001b[0mfeatures\u001b[0m\u001b[1;33m]\u001b[0m\u001b[1;33m)\u001b[0m\u001b[1;33m\u001b[0m\u001b[1;33m\u001b[0m\u001b[0m\n\u001b[0m\u001b[0;32m      3\u001b[0m \u001b[0mgb_weights_test\u001b[0m \u001b[1;33m=\u001b[0m \u001b[0mreweighter\u001b[0m\u001b[1;33m.\u001b[0m\u001b[0mpredict_weights\u001b[0m\u001b[1;33m(\u001b[0m\u001b[0mmc_test\u001b[0m\u001b[1;33m[\u001b[0m\u001b[0mfeatures\u001b[0m\u001b[1;33m]\u001b[0m\u001b[1;33m)\u001b[0m\u001b[1;33m\u001b[0m\u001b[1;33m\u001b[0m\u001b[0m\n\u001b[0;32m      4\u001b[0m \u001b[1;31m# validate reweighting rule on the test part comparing 1d projections\u001b[0m\u001b[1;33m\u001b[0m\u001b[1;33m\u001b[0m\u001b[1;33m\u001b[0m\u001b[0m\n\u001b[0;32m      5\u001b[0m \u001b[0ms10\u001b[0m\u001b[1;33m=\u001b[0m\u001b[0mdraw_distributions\u001b[0m\u001b[1;33m(\u001b[0m\u001b[0mmc_test\u001b[0m\u001b[1;33m[\u001b[0m\u001b[0mfeatures\u001b[0m\u001b[1;33m]\u001b[0m\u001b[1;33m,\u001b[0m \u001b[0mdata_test\u001b[0m\u001b[1;33m[\u001b[0m\u001b[0mfeatures\u001b[0m\u001b[1;33m]\u001b[0m\u001b[1;33m,\u001b[0m \u001b[0mgb_weights_test\u001b[0m\u001b[1;33m)\u001b[0m\u001b[1;33m\u001b[0m\u001b[1;33m\u001b[0m\u001b[0m\n",
      "\u001b[1;31mNameError\u001b[0m: name 'features' is not defined"
     ]
    }
   ],
   "source": [
    "reweighter = GBReweighter(n_estimators=50, learning_rate=0.1, max_depth=3, min_samples_leaf=1000)\n",
    "reweighter.fit(mc_train[features], data_train[features])\n",
    "gb_weights_test = reweighter.predict_weights(mc_test[features])\n",
    "# validate reweighting rule on the test part comparing 1d projections\n",
    "s10=draw_distributions(mc_test[features], data_test[features], gb_weights_test)"
   ]
  }
 ],
 "metadata": {
  "hide_input": false,
  "kernelspec": {
   "display_name": "Python 3",
   "language": "python",
   "name": "python3"
  },
  "language_info": {
   "codemirror_mode": {
    "name": "ipython",
    "version": 3
   },
   "file_extension": ".py",
   "mimetype": "text/x-python",
   "name": "python",
   "nbconvert_exporter": "python",
   "pygments_lexer": "ipython3",
   "version": "3.7.4"
  }
 },
 "nbformat": 4,
 "nbformat_minor": 4
}
