{
 "cells": [
  {
   "cell_type": "markdown",
   "metadata": {
    "toc": true
   },
   "source": [
    "<h1>Indholdsfortegnelse<span class=\"tocSkip\"></span></h1>\n",
    "<div class=\"toc\"><ul class=\"toc-item\"></ul></div>"
   ]
  },
  {
   "cell_type": "code",
   "execution_count": 1,
   "metadata": {},
   "outputs": [],
   "source": [
    "import numpy as np\n",
    "import pandas as pd\n",
    "import matplotlib.pyplot as plt\n",
    "import uproot, os, dill\n",
    "import minepy as mp"
   ]
  },
  {
   "cell_type": "code",
   "execution_count": 4,
   "metadata": {},
   "outputs": [],
   "source": [
    "# Load Data\n",
    "data_path = \"../Data/data15_13TeV.00267358.physics_MinBias.30062015_v0_per_0.root\"\n",
    "data_file = uproot.open(data_path)\n",
    "data_tree = data_file['tree']\n",
    "\n",
    "# load_variables = \"v0_rxy v0_chi2 cosTheta v0_ks_mass v0_rxyErr pT ntrk_pv0 a0 calpha a0xy pv0_y\".split(\" \")\n",
    "load_variables = data_tree.keys()[:57]\n",
    "load_variables.remove(b\"npv\")\n",
    "\n",
    "df = data_tree.pandas.df(load_variables, entrystop = 10**3)\n"
   ]
  },
  {
   "cell_type": "code",
   "execution_count": 5,
   "metadata": {},
   "outputs": [],
   "source": [
    "# define probability variable\n",
    "model_path = \"models/data_trained_xg.dat\"\n",
    "\n",
    "func_seri = dill.load(open(model_path, 'rb'))\n",
    "prob_func = dill.loads(func_seri)"
   ]
  },
  {
   "cell_type": "code",
   "execution_count": 6,
   "metadata": {},
   "outputs": [
    {
     "name": "stderr",
     "output_type": "stream",
     "text": [
      "<string>:6: SettingWithCopyWarning: \n",
      "A value is trying to be set on a copy of a slice from a DataFrame.\n",
      "Try using .loc[row_indexer,col_indexer] = value instead\n",
      "\n",
      "See the caveats in the documentation: https://pandas.pydata.org/pandas-docs/stable/user_guide/indexing.html#returning-a-view-versus-a-copy\n"
     ]
    }
   ],
   "source": [
    "\n",
    "df = prob_func(df)"
   ]
  },
  {
   "cell_type": "code",
   "execution_count": 17,
   "metadata": {},
   "outputs": [],
   "source": [
    "import pickle\n",
    "update_mic_matrix = False\n",
    "\n",
    "if update_mic_matrix:\n",
    "    import minepy\n",
    "    result = np.pstats(df.T)\n",
    "    pickle.dump((col, result), open(\"resources/mic_matrix.dat\", 'wb'))\n",
    "else:\n",
    "    col, result = pickle.load(open(\"resources/mic_matrix.dat\", 'rb'))"
   ]
  },
  {
   "cell_type": "code",
   "execution_count": 20,
   "metadata": {},
   "outputs": [
    {
     "data": {
      "text/plain": [
       "(1596,)"
      ]
     },
     "execution_count": 20,
     "metadata": {},
     "output_type": "execute_result"
    }
   ],
   "source": [
    "result[0].shape"
   ]
  },
  {
   "cell_type": "code",
   "execution_count": 21,
   "metadata": {},
   "outputs": [],
   "source": [
    "from scipy.spatial.distance import squareform\n",
    "\n",
    "mat = squareform(result[0])"
   ]
  },
  {
   "cell_type": "code",
   "execution_count": 22,
   "metadata": {},
   "outputs": [
    {
     "data": {
      "image/png": "[encoded data removed]",
      "text/plain": [
       "<Figure size 1296x1152 with 1 Axes>"
      ]
     },
     "metadata": {
      "needs_background": "light"
     },
     "output_type": "display_data"
    }
   ],
   "source": [
    "fig, ax = plt.subplots(figsize = (18, 16))\n",
    "show = ax.imshow(mat) \n",
    "cols = df.columns\n",
    "\n",
    "# for i in range(len(cols)):\n",
    "#     for j in range(len(cols)):\n",
    "#         text = ax.text(j, i, np.round(mat[i, j], 2),\n",
    "#                        ha=\"center\", va=\"center\", color=\"w\")"
   ]
  },
  {
   "cell_type": "code",
   "execution_count": null,
   "metadata": {},
   "outputs": [],
   "source": [
    "ax.set_xticks(np.arange(len(cols)))\n",
    "ax.set_xticklabels(cols, rotation = 90)\n",
    "ax.set_yticks(np.arange(len(cols)))\n",
    "ax.set_yticklabels(cols)\n",
    "ax.tick_params(axis = 'x', bottom = False, top = True, labelbottom = False, labeltop = True)\n",
    "# ax.xticks(rotation = 90)\n",
    "\n",
    "fig.colorbar(show)\n",
    "\n",
    "fig.tight_layout()\n",
    "fig"
   ]
  },
  {
   "cell_type": "code",
   "execution_count": null,
   "metadata": {},
   "outputs": [],
   "source": [
    "from scipy.cluster.hierarchy import linkage, leaves_list, optimal_leaf_ordering\n",
    "from scipy.spatial.distance import squareform\n",
    "\n",
    "dist = squareform(mat)\n",
    "dist = np.exp(- dist)\n",
    "\n",
    "Z = linkage(dist, optimal_ordering = True, method = \"average\")\n",
    "sort_ind = leaves_list(optimal_leaf_ordering(Z, dist))\n",
    "\n",
    "# leaves_list(linkage(dist, optimal_ordering = True))"
   ]
  },
  {
   "cell_type": "code",
   "execution_count": null,
   "metadata": {},
   "outputs": [],
   "source": [
    "last = [\"v0_ks_mass\", \"prob\"]\n",
    "\n",
    "ind_last = sort_ind[np.array([list(cols).index(par) for par in last])]\n",
    "\n",
    "sort_ind = np.append(sort_ind, sort_ind[ind_last])\n",
    "\n",
    "sort_ind = np.delete(sort_ind, ind_last)\n",
    "\n",
    "sorted_mat = np.zeros_like(mat)\n",
    "\n",
    "for i_old, i_new in enumerate(sort_ind):\n",
    "    for j_old, j_new in enumerate(sort_ind):\n",
    "        sorted_mat[i_new, j_new] = mat[i_old, j_old]\n"
   ]
  },
  {
   "cell_type": "code",
   "execution_count": null,
   "metadata": {},
   "outputs": [],
   "source": [
    "fig, ax = plt.subplots(figsize = (18, 16))\n",
    "show = ax.imshow(sorted_mat)\n"
   ]
  },
  {
   "cell_type": "code",
   "execution_count": null,
   "metadata": {},
   "outputs": [],
   "source": [
    "ax.set_xticks(np.arange(len(cols)))\n",
    "ax.set_xticklabels(cols[sort_ind], rotation = 90)\n",
    "ax.set_yticks(np.arange(len(cols)))\n",
    "ax.set_yticklabels(cols[sort_ind])\n",
    "ax.tick_params(axis = 'x', bottom = False, top = True, labelbottom = False, labeltop = True)\n",
    "# ax.xticks(rotation = 90)\n",
    "\n",
    "fig.colorbar(show)\n",
    "\n",
    "fig.tight_layout()\n",
    "fig"
   ]
  },
  {
   "cell_type": "code",
   "execution_count": null,
   "metadata": {},
   "outputs": [],
   "source": []
  },
  {
   "cell_type": "code",
   "execution_count": null,
   "metadata": {},
   "outputs": [],
   "source": []
  }
 ],
 "metadata": {
  "kernelspec": {
   "display_name": "Python 3",
   "language": "python",
   "name": "python3"
  },
  "language_info": {
   "codemirror_mode": {
    "name": "ipython",
    "version": 3
   },
   "file_extension": ".py",
   "mimetype": "text/x-python",
   "name": "python",
   "nbconvert_exporter": "python",
   "pygments_lexer": "ipython3",
   "version": "3.7.4"
  },
  "latex_envs": {
   "LaTeX_envs_menu_present": true,
   "autoclose": false,
   "autocomplete": true,
   "bibliofile": "biblio.bib",
   "cite_by": "apalike",
   "current_citInitial": 1,
   "eqLabelWithNumbers": true,
   "eqNumInitial": 1,
   "hotkeys": {
    "equation": "Ctrl-E",
    "itemize": "Ctrl-I"
   },
   "labels_anchors": false,
   "latex_user_defs": false,
   "report_style_numbering": false,
   "user_envs_cfg": false
  },
  "toc": {
   "base_numbering": 1,
   "nav_menu": {},
   "number_sections": true,
   "sideBar": true,
   "skip_h1_title": true,
   "title_cell": "Indholdsfortegnelse",
   "title_sidebar": "Contents",
   "toc_cell": true,
   "toc_position": {},
   "toc_section_display": true,
   "toc_window_display": true
  }
 },
 "nbformat": 4,
 "nbformat_minor": 4
}
